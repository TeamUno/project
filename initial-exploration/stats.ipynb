{
 "cells": [
  {
   "cell_type": "code",
   "execution_count": 16,
   "metadata": {
    "collapsed": false
   },
   "outputs": [
    {
     "name": "stdout",
     "output_type": "stream",
     "text": [
      "A normal continuous random variable.\n",
      "\n",
      "    The location (loc) keyword specifies the mean.\n",
      "    The scale (scale) keyword specifies the standard deviation.\n",
      "\n",
      "    Continuous random variables are defined from a standard form and may\n",
      "    require some shape parameters to complete its specification.  Any\n",
      "    optional keyword parameters can be passed to the methods of the RV\n",
      "    object as given below:\n",
      "    \n",
      "    Methods\n",
      "    -------\n",
      "    ``rvs(loc=0, scale=1, size=1)``\n",
      "        Random variates.\n",
      "    ``pdf(x, loc=0, scale=1)``\n",
      "        Probability density function.\n",
      "    ``logpdf(x, loc=0, scale=1)``\n",
      "        Log of the probability density function.\n",
      "    ``cdf(x, loc=0, scale=1)``\n",
      "        Cumulative density function.\n",
      "    ``logcdf(x, loc=0, scale=1)``\n",
      "        Log of the cumulative density function.\n",
      "    ``sf(x, loc=0, scale=1)``\n",
      "        Survival function (1-cdf --- sometimes more accurate).\n",
      "    ``logsf(x, loc=0, scale=1)``\n",
      "        Log of the survival function.\n",
      "    ``ppf(q, loc=0, scale=1)``\n",
      "        Percent point function (inverse of cdf --- percentiles).\n",
      "    ``isf(q, loc=0, scale=1)``\n",
      "        Inverse survival function (inverse of sf).\n",
      "    ``moment(n, loc=0, scale=1)``\n",
      "        Non-central moment of order n\n",
      "    ``stats(loc=0, scale=1, moments='mv')``\n",
      "        Mean('m'), variance('v'), skew('s'), and/or kurtosis('k').\n",
      "    ``entropy(loc=0, scale=1)``\n",
      "        (Differential) entropy of the RV.\n",
      "    ``fit(data, loc=0, scale=1)``\n",
      "        Parameter estimates for generic data.\n",
      "    ``expect(func, loc=0, scale=1, lb=None, ub=None, conditional=False, **kwds)``\n",
      "        Expected value of a function (of one argument) with respect to the distribution.\n",
      "    ``median(loc=0, scale=1)``\n",
      "        Median of the distribution.\n",
      "    ``mean(loc=0, scale=1)``\n",
      "        Mean of the distribution.\n",
      "    ``var(loc=0, scale=1)``\n",
      "        Variance of the distribution.\n",
      "    ``std(loc=0, scale=1)``\n",
      "        Standard deviation of the distribution.\n",
      "    ``interval(alpha, loc=0, scale=1)``\n",
      "        Endpoints of the range that contains alpha percent of the distribution\n",
      "    \n",
      "    Parameters\n",
      "    ----------\n",
      "    x : array_like\n",
      "        quantiles\n",
      "    q : array_like\n",
      "        lower or upper tail probability\n",
      "    loc : array_like, optional\n",
      "        location parameter (default=0)\n",
      "    scale : array_like, optional\n",
      "        scale parameter (default=1)\n",
      "    size : int or tuple of ints, optional\n",
      "        shape of random variates (default computed from input arguments )\n",
      "    moments : str, optional\n",
      "        composed of letters ['mvsk'] specifying which moments to compute where\n",
      "        'm' = mean, 'v' = variance, 's' = (Fisher's) skew and\n",
      "        'k' = (Fisher's) kurtosis.\n",
      "        Default is 'mv'.\n",
      "    \n",
      "    Alternatively, the object may be called (as a function) to fix the shape,\n",
      "    location, and scale parameters returning a \"frozen\" continuous RV object:\n",
      "    \n",
      "    rv = norm(loc=0, scale=1)\n",
      "        - Frozen RV object with the same methods but holding the given shape,\n",
      "          location, and scale fixed.\n",
      "\n",
      "    Notes\n",
      "    -----\n",
      "    The probability density function for `norm` is::\n",
      "\n",
      "        norm.pdf(x) = exp(-x**2/2)/sqrt(2*pi)\n",
      "\n",
      "    Examples\n",
      "    --------\n",
      "    >>> from scipy.stats import norm\n",
      "    >>> import matplotlib.pyplot as plt\n",
      "    >>> fig, ax = plt.subplots(1, 1)\n",
      "    \n",
      "    Calculate a few first moments:\n",
      "    \n",
      "    \n",
      "    >>> mean, var, skew, kurt = norm.stats(moments='mvsk')\n",
      "    \n",
      "    Display the probability density function (``pdf``):\n",
      "    \n",
      "    >>> x = np.linspace(norm.ppf(0.01),\n",
      "    ...               norm.ppf(0.99), 100)\n",
      "    >>> ax.plot(x, norm.pdf(x),\n",
      "    ...          'r-', lw=5, alpha=0.6, label='norm pdf')\n",
      "    \n",
      "    Alternatively, freeze the distribution and display the frozen pdf:\n",
      "    \n",
      "    >>> rv = norm()\n",
      "    >>> ax.plot(x, rv.pdf(x), 'k-', lw=2, label='frozen pdf')\n",
      "    \n",
      "    Check accuracy of ``cdf`` and ``ppf``:\n",
      "    \n",
      "    >>> vals = norm.ppf([0.001, 0.5, 0.999])\n",
      "    >>> np.allclose([0.001, 0.5, 0.999], norm.cdf(vals))\n",
      "    True\n",
      "    \n",
      "    Generate random numbers:\n",
      "    \n",
      "    >>> r = norm.rvs(size=1000)\n",
      "    \n",
      "    And compare the histogram:\n",
      "    \n",
      "    >>> ax.hist(r, normed=True, histtype='stepfilled', alpha=0.2)\n",
      "    >>> ax.legend(loc='best', frameon=False)\n",
      "    >>> plt.show()\n",
      "\n",
      "    \n"
     ]
    }
   ],
   "source": [
    "#http://docs.scipy.org/doc/scipy/reference/tutorial/stats.html\n",
    "\n",
    "from scipy import stats\n",
    "from scipy.stats import norm\n",
    "print norm.__doc__"
   ]
  },
  {
   "cell_type": "code",
   "execution_count": 17,
   "metadata": {
    "collapsed": false
   },
   "outputs": [
    {
     "name": "stdout",
     "output_type": "stream",
     "text": [
      "bounds of distribution lower: -inf, upper: inf\n"
     ]
    }
   ],
   "source": [
    "print 'bounds of distribution lower: %s, upper: %s' % (norm.a,norm.b)"
   ]
  },
  {
   "cell_type": "code",
   "execution_count": 18,
   "metadata": {
    "collapsed": false
   },
   "outputs": [
    {
     "data": {
      "text/plain": [
       "['__class__',\n",
       " '__delattr__',\n",
       " '__dict__',\n",
       " '__doc__',\n",
       " '__format__',\n",
       " '__getattribute__',\n",
       " '__hash__',\n",
       " '__init__',\n",
       " '__module__',\n",
       " '__new__',\n",
       " '__reduce__',\n",
       " '__reduce_ex__',\n",
       " '__repr__',\n",
       " '__setattr__',\n",
       " '__sizeof__',\n",
       " '__str__',\n",
       " '__subclasshook__',\n",
       " '__weakref__',\n",
       " 'args',\n",
       " 'cdf',\n",
       " 'dist',\n",
       " 'entropy',\n",
       " 'interval',\n",
       " 'isf',\n",
       " 'kwds',\n",
       " 'logcdf',\n",
       " 'logpdf',\n",
       " 'logpmf',\n",
       " 'logsf',\n",
       " 'mean',\n",
       " 'median',\n",
       " 'moment',\n",
       " 'pdf',\n",
       " 'pmf',\n",
       " 'ppf',\n",
       " 'rvs',\n",
       " 'sf',\n",
       " 'stats',\n",
       " 'std',\n",
       " 'var']"
      ]
     },
     "execution_count": 18,
     "metadata": {},
     "output_type": "execute_result"
    }
   ],
   "source": [
    "rv = norm()\n",
    "dir(rv)  # reformatted\n",
    "\n"
   ]
  },
  {
   "cell_type": "code",
   "execution_count": 19,
   "metadata": {
    "collapsed": false
   },
   "outputs": [
    {
     "name": "stdout",
     "output_type": "stream",
     "text": [
      "number of continuous distributions: 86\n",
      "number of discrete distributions:   13\n"
     ]
    }
   ],
   "source": [
    "import warnings\n",
    "warnings.simplefilter('ignore', DeprecationWarning)\n",
    "dist_continu = [d for d in dir(stats) if\n",
    "                isinstance(getattr(stats,d), stats.rv_continuous)]\n",
    "dist_discrete = [d for d in dir(stats) if\n",
    "                 isinstance(getattr(stats,d), stats.rv_discrete)]\n",
    "print 'number of continuous distributions:', len(dist_continu)\n",
    "\n",
    "print 'number of discrete distributions:  ', len(dist_discrete)"
   ]
  },
  {
   "cell_type": "code",
   "execution_count": 20,
   "metadata": {
    "collapsed": false
   },
   "outputs": [
    {
     "data": {
      "text/plain": [
       "(array(3.0), array(16.0))"
      ]
     },
     "execution_count": 20,
     "metadata": {},
     "output_type": "execute_result"
    }
   ],
   "source": [
    "norm.stats(loc = 3, scale = 4, moments = \"mv\")"
   ]
  },
  {
   "cell_type": "code",
   "execution_count": 21,
   "metadata": {
    "collapsed": false
   },
   "outputs": [],
   "source": [
    "import numpy as np\n",
    "npoints = 20   # number of integer support points of the distribution minus 1\n",
    "npointsh = npoints / 2\n",
    "npointsf = float(npoints)\n",
    "nbound = 4   # bounds for the truncated normal\n",
    "normbound = (1+1/npointsf) * nbound   # actual bounds of truncated normal\n",
    "grid = np.arange(-npointsh, npointsh+2, 1)   # integer grid\n",
    "gridlimitsnorm = (grid-0.5) / npointsh * nbound   # bin limits for the truncnorm\n",
    "gridlimits = grid - 0.5   # used later in the analysis\n",
    "grid = grid[:-1]\n",
    "probs = np.diff(stats.truncnorm.cdf(gridlimitsnorm, -normbound, normbound))\n",
    "gridint = grid"
   ]
  },
  {
   "cell_type": "code",
   "execution_count": 22,
   "metadata": {
    "collapsed": true
   },
   "outputs": [],
   "source": [
    "normdiscrete = stats.rv_discrete(values=(gridint,\n",
    "             np.round(probs, decimals=7)), name='normdiscrete')"
   ]
  },
  {
   "cell_type": "code",
   "execution_count": 23,
   "metadata": {
    "collapsed": false
   },
   "outputs": [
    {
     "name": "stdout",
     "output_type": "stream",
     "text": [
      "mean = -0.0000, variance = 6.3302, skew = 0.0000, kurtosis = -0.0076\n"
     ]
    }
   ],
   "source": [
    "print 'mean = %6.4f, variance = %6.4f, skew = %6.4f, kurtosis = %6.4f'% \\\n",
    "      normdiscrete.stats(moments =  'mvsk')\n"
   ]
  },
  {
   "cell_type": "code",
   "execution_count": 24,
   "metadata": {
    "collapsed": false
   },
   "outputs": [
    {
     "data": {
      "image/png": "[encoded data removed]",
      "text/plain": [
       "<matplotlib.figure.Figure at 0x1075c5f90>"
      ]
     },
     "metadata": {},
     "output_type": "display_data"
    }
   ],
   "source": [
    "from scipy.stats import poisson\n",
    "import matplotlib.pyplot as plt\n",
    "fig, ax = plt.subplots(1, 1)"
   ]
  },
  {
   "cell_type": "code",
   "execution_count": 25,
   "metadata": {
    "collapsed": true
   },
   "outputs": [],
   "source": [
    "mu = 0.6\n",
    "mean, var, skew, kurt = poisson.stats(mu, moments='mvsk')"
   ]
  },
  {
   "cell_type": "code",
   "execution_count": 26,
   "metadata": {
    "collapsed": false
   },
   "outputs": [
    {
     "data": {
      "text/plain": [
       "<matplotlib.collections.LineCollection at 0x107eb2210>"
      ]
     },
     "execution_count": 26,
     "metadata": {},
     "output_type": "execute_result"
    }
   ],
   "source": [
    "%matplotlib inline\n",
    "x = np.arange(poisson.ppf(0.01, mu),\n",
    "              poisson.ppf(0.99, mu))\n",
    "ax.plot(x, poisson.pmf(x, mu), 'bo', ms=8, label='poisson pmf')\n",
    "ax.vlines(x, 0, poisson.pmf(x, mu), colors='b', lw=5, alpha=0.5)\n"
   ]
  },
  {
   "cell_type": "code",
   "execution_count": 15,
   "metadata": {
    "collapsed": true
   },
   "outputs": [],
   "source": [
    "rv = poisson(mu)\n",
    "ax.vlines(x, 0, rv.pmf(x), colors='k', linestyles='-', lw=1,\n",
    "        label='frozen pmf')\n",
    "ax.legend(loc='best', frameon=False)\n",
    "plt.show()"
   ]
  },
  {
   "cell_type": "code",
   "execution_count": 27,
   "metadata": {
    "collapsed": false
   },
   "outputs": [
    {
     "data": {
      "text/plain": [
       "<scipy.stats._distn_infrastructure.rv_frozen at 0x10b583510>"
      ]
     },
     "execution_count": 27,
     "metadata": {},
     "output_type": "execute_result"
    }
   ],
   "source": [
    "rv"
   ]
  },
  {
   "cell_type": "code",
   "execution_count": 28,
   "metadata": {
    "collapsed": false
   },
   "outputs": [
    {
     "ename": "AttributeError",
     "evalue": "'rv_frozen' object has no attribute 'plot'",
     "output_type": "error",
     "traceback": [
      "\u001b[0;31m---------------------------------------------------------------------------\u001b[0m",
      "\u001b[0;31mAttributeError\u001b[0m                            Traceback (most recent call last)",
      "\u001b[0;32m<ipython-input-28-0ea7b1052d0d>\u001b[0m in \u001b[0;36m<module>\u001b[0;34m()\u001b[0m\n\u001b[0;32m----> 1\u001b[0;31m \u001b[0mrv\u001b[0m\u001b[0;34m.\u001b[0m\u001b[0mplot\u001b[0m\u001b[0;34m(\u001b[0m\u001b[0;34m)\u001b[0m\u001b[0;34m\u001b[0m\u001b[0m\n\u001b[0m",
      "\u001b[0;31mAttributeError\u001b[0m: 'rv_frozen' object has no attribute 'plot'"
     ]
    }
   ],
   "source": [
    " rv.plot()"
   ]
  },
  {
   "cell_type": "code",
   "execution_count": 29,
   "metadata": {
    "collapsed": false
   },
   "outputs": [
    {
     "data": {
      "text/plain": [
       "[<matplotlib.lines.Line2D at 0x106689290>]"
      ]
     },
     "execution_count": 29,
     "metadata": {},
     "output_type": "execute_result"
    }
   ],
   "source": [
    "ax.plot(x, poisson.pmf(x, mu), 'bo', ms=8, label='poisson pmf')"
   ]
  },
  {
   "cell_type": "code",
   "execution_count": 30,
   "metadata": {
    "collapsed": true
   },
   "outputs": [],
   "source": [
    "from scipy.stats import poisson, lognorm\n",
    "myMu=10\n",
    "p = poisson(myMu)"
   ]
  },
  {
   "cell_type": "code",
   "execution_count": 38,
   "metadata": {
    "collapsed": true
   },
   "outputs": [],
   "source": [
    "sp =p.rvs((100,))"
   ]
  },
  {
   "cell_type": "code",
   "execution_count": 39,
   "metadata": {
    "collapsed": false
   },
   "outputs": [
    {
     "data": {
      "text/plain": [
       "array([ 7,  6, 13, 10,  5, 16,  7, 15, 15, 10, 11,  7, 16, 14,  9, 13, 11,\n",
       "        8,  9, 13,  6, 11, 10,  6,  9, 10,  4, 13,  9, 12, 10,  9,  8,  9,\n",
       "       12, 12, 10,  8,  7,  7, 10, 11,  8,  9,  6, 10, 10, 14, 10,  8, 11,\n",
       "        9,  6, 11, 13, 10,  8, 10,  6, 10, 12,  5,  9,  6, 10,  7, 12, 13,\n",
       "       10, 10, 10,  8,  7,  7, 14,  5,  7,  4, 12,  3, 10,  7, 10, 18, 12,\n",
       "        9,  9, 13, 11,  6,  8,  8, 13, 13,  5,  8,  3, 13, 14, 11])"
      ]
     },
     "execution_count": 39,
     "metadata": {},
     "output_type": "execute_result"
    }
   ],
   "source": [
    "sp"
   ]
  },
  {
   "cell_type": "code",
   "execution_count": 37,
   "metadata": {
    "collapsed": false
   },
   "outputs": [
    {
     "data": {
      "text/plain": [
       "array([15, 14,  8,  5, 13,  7, 13,  7,  6, 11,  8,  7,  8, 14, 14,  9,  7,\n",
       "        8,  7, 13, 15,  8, 14,  6,  9, 10,  9,  8,  9, 15, 13,  8,  8, 15,\n",
       "       12, 11, 13, 10, 13,  9,  8, 14,  5, 10, 10, 16,  7, 11, 12, 11,  8,\n",
       "       10,  8, 10,  8,  9,  9,  9, 11,  9,  7, 10, 17, 10,  6,  9,  8, 12,\n",
       "        8,  3, 12,  6,  8, 10, 17,  9, 14, 10, 13, 12, 13,  8, 11, 12, 10,\n",
       "        7,  9, 11, 10,  8, 12,  9, 13,  7, 11,  7,  8, 12, 17,  9])"
      ]
     },
     "execution_count": 37,
     "metadata": {},
     "output_type": "execute_result"
    }
   ],
   "source": [
    "sp"
   ]
  },
  {
   "cell_type": "code",
   "execution_count": 40,
   "metadata": {
    "collapsed": true
   },
   "outputs": [],
   "source": [
    "from scipy import stats"
   ]
  },
  {
   "cell_type": "code",
   "execution_count": 41,
   "metadata": {
    "collapsed": true
   },
   "outputs": [],
   "source": [
    "import scipy as sp\n",
    "import numpy as np"
   ]
  },
  {
   "cell_type": "code",
   "execution_count": 42,
   "metadata": {
    "collapsed": true
   },
   "outputs": [],
   "source": [
    "import matplotlib as mpl\n",
    "from matplotlib import pyplot as plt"
   ]
  },
  {
   "cell_type": "code",
   "execution_count": 43,
   "metadata": {
    "collapsed": true
   },
   "outputs": [],
   "source": [
    "s = sp.randn(100)"
   ]
  },
  {
   "cell_type": "code",
   "execution_count": 44,
   "metadata": {
    "collapsed": false
   },
   "outputs": [
    {
     "data": {
      "text/plain": [
       "array([-0.09333588, -2.07023758, -0.19871955,  1.244719  , -0.74428519,\n",
       "        0.4238768 , -0.54121639,  0.93755919, -0.0105421 , -1.14109916,\n",
       "       -0.96701548, -0.91865979, -0.54439714, -1.97370875, -0.9401743 ,\n",
       "       -1.92506459,  0.13772794,  0.20674345, -0.65227671, -0.9459022 ,\n",
       "       -0.92682062, -0.5470274 ,  1.45642977,  0.99689984, -1.43999348,\n",
       "        1.14412799, -0.23297605, -0.68558519,  1.01392147, -0.0360757 ,\n",
       "       -1.91344065,  0.58491056,  0.18122512, -1.55109703,  0.46661451,\n",
       "        0.17773384, -0.1764971 ,  0.93886098,  0.21559292,  0.75818508,\n",
       "       -0.05506126,  0.50660472,  1.57047071, -0.64151355,  1.5038446 ,\n",
       "       -0.89497971,  0.05422868, -0.76515547, -0.03478095, -0.48247908,\n",
       "        0.10494945, -1.03869943, -1.70368393, -0.65847926, -0.76988737,\n",
       "       -0.67155096, -0.0819699 , -1.15099347, -0.1585604 , -0.04903008,\n",
       "       -0.46168861,  0.93676134,  0.24782015,  0.64895878, -1.03674236,\n",
       "        0.01321058,  0.97077801,  1.13776811,  1.09518361, -0.11783526,\n",
       "        0.94022528,  0.5205037 , -1.78776855,  0.36021007, -0.63184139,\n",
       "        1.97426137,  0.27307003,  1.45247204, -0.82772681, -1.20805452,\n",
       "        1.49776374, -0.30776498,  0.55417915, -1.23145103,  1.59229487,\n",
       "        0.28409136,  0.62250736,  1.05234198, -0.12304449, -1.09560564,\n",
       "       -1.52144169,  0.29888624,  0.99429683,  0.79301567,  0.98661168,\n",
       "        1.06322977,  0.1819471 , -0.45310667,  1.50312557, -0.47522669])"
      ]
     },
     "execution_count": 44,
     "metadata": {},
     "output_type": "execute_result"
    }
   ],
   "source": [
    "s"
   ]
  },
  {
   "cell_type": "code",
   "execution_count": 50,
   "metadata": {
    "collapsed": false
   },
   "outputs": [],
   "source": [
    "n = stats.norm.rvs(loc=3.5, scale=102.0, size=1000)"
   ]
  },
  {
   "cell_type": "code",
   "execution_count": 51,
   "metadata": {
    "collapsed": false
   },
   "outputs": [
    {
     "data": {
      "text/plain": [
       "array([ -6.29273219e+01,   1.87534927e+01,  -1.91309376e+02,\n",
       "        -9.73843476e+01,  -1.74642131e+02,   1.78185787e+02,\n",
       "         6.10507226e+01,  -1.22779888e+02,  -5.90767401e+01,\n",
       "        -1.22058955e+02,  -5.53820981e+01,   3.55719463e+01,\n",
       "        -8.42854627e+01,  -1.01193344e+02,   7.81212457e+01,\n",
       "         1.03788879e+02,  -2.60545505e+01,  -1.11143040e+02,\n",
       "        -1.04339565e+02,  -6.76240399e+01,   4.90930648e+01,\n",
       "         8.09871997e+01,   1.02764586e+02,   1.45544520e+01,\n",
       "        -2.28551817e+01,   5.57074140e+01,  -2.11565753e+02,\n",
       "         7.09545729e+01,  -5.36121664e+01,   8.88688983e+01,\n",
       "         1.07089967e+01,  -8.22717207e+01,   4.45670452e+01,\n",
       "        -9.73762223e+01,   3.21606245e+02,   5.41448067e+01,\n",
       "         6.42696477e+01,  -1.59643620e+02,  -1.39570833e+02,\n",
       "        -3.48514254e+01,   7.18341650e+01,   1.81167747e+01,\n",
       "        -2.25124145e+00,  -2.23805360e+01,   1.18815494e+02,\n",
       "         7.72687679e+01,   3.07318336e+02,  -9.79713652e+01,\n",
       "        -7.03174385e+01,  -4.39992850e+01,  -1.38086690e+02,\n",
       "         8.03336074e+01,   2.56930756e+02,  -3.57764625e+02,\n",
       "        -7.85488361e+01,   1.39440970e+02,  -9.98193638e+01,\n",
       "        -1.34683968e+02,   1.80042291e+02,   7.98552153e+01,\n",
       "         1.74869991e+01,   1.51041946e+02,   1.47821917e+02,\n",
       "         3.10769425e+01,  -1.37157872e+02,   1.49995057e+02,\n",
       "         9.15237880e+01,  -2.74029790e+00,  -2.13552321e+02,\n",
       "         1.29135820e+02,  -1.31677127e+02,  -6.84732190e+01,\n",
       "         6.69717853e+01,   3.86859648e+01,   1.06393330e+01,\n",
       "        -1.51721836e+02,  -4.27244752e+01,  -7.82735317e+01,\n",
       "         1.18343067e+00,   1.36822826e+02,   2.10557660e+01,\n",
       "         1.85623077e+02,   9.23020140e+01,   1.08929013e+02,\n",
       "        -4.80401027e+01,   4.50662310e+00,  -6.82450474e+01,\n",
       "        -1.60252200e+02,   1.18443029e+02,  -3.45081452e+01,\n",
       "         1.85446389e+01,   6.84698255e+00,  -6.23257463e+01,\n",
       "        -5.96115396e+01,  -1.80471480e+02,   9.53858222e+01,\n",
       "        -2.66205400e+01,  -3.49022557e+01,   6.03931504e+01,\n",
       "         1.10811193e+02,  -1.04981020e+02,  -5.05269781e+01,\n",
       "        -6.74075495e+00,  -2.52436698e+01,  -5.01393424e+00,\n",
       "         3.11214739e+01,   2.61703423e+01,  -5.34249291e+01,\n",
       "         2.72912352e+02,  -7.60431113e+01,   7.85136636e+01,\n",
       "        -5.03165473e+01,  -1.00943797e+02,   1.94219071e+00,\n",
       "        -3.85707388e+01,   1.35037496e+02,  -2.86174131e+01,\n",
       "        -9.35942712e+01,  -1.27014412e+02,   1.99865270e+01,\n",
       "        -2.97277996e+01,  -1.16223352e+02,   4.72186645e+01,\n",
       "         2.60727778e+01,   1.70669308e+02,  -1.32339729e+01,\n",
       "        -7.16136981e+01,  -7.93743958e+01,   7.30784167e+01,\n",
       "         1.28755471e+02,   1.31265851e+02,  -6.76708806e+01,\n",
       "        -4.85992693e+01,   4.52049167e+01,   3.53581574e+02,\n",
       "         3.83006485e+00,  -1.12793687e+01,  -1.34840742e+01,\n",
       "         2.87700644e+01,  -6.64179030e+01,  -1.12731743e+02,\n",
       "        -2.35534091e+01,  -1.28714312e+02,  -6.96682704e+01,\n",
       "        -7.12334941e+01,   7.30398557e+01,   9.02735991e+01,\n",
       "        -4.45448376e+01,   7.81264142e+01,   2.03300123e+01,\n",
       "         2.24250001e+01,   7.65158787e+01,  -3.58752837e+01,\n",
       "         7.36804246e+01,  -1.02155836e+02,   1.41876433e+02,\n",
       "         1.03662266e+02,  -1.90710226e+01,   1.11996905e+02,\n",
       "        -1.25016896e+00,   1.03137162e+02,   1.75012553e+02,\n",
       "         1.80873453e+02,  -2.02573714e+02,   9.52805605e+01,\n",
       "         8.31781907e+01,   2.05239162e+02,   1.22784390e+02,\n",
       "         1.56173659e+02,   1.44258179e+02,   1.11362006e+02,\n",
       "         1.14141645e+02,  -1.35782030e+01,   2.21128750e+01,\n",
       "        -2.98161164e+01,   1.07763877e+02,  -9.03926867e+01,\n",
       "         1.05612947e+02,  -1.39023480e+02,   1.30258110e+02,\n",
       "        -1.64822365e+02,  -1.19908449e+02,  -5.08402273e+01,\n",
       "         7.99807335e+01,   1.11732444e+02,   1.16355748e+02,\n",
       "        -1.64908234e+02,  -8.05387543e+01,  -4.35424812e+01,\n",
       "         1.59614624e+02,   1.53998217e+01,   8.98539569e+01,\n",
       "         1.65983048e+02,  -8.42994113e+01,  -5.32436166e+01,\n",
       "         6.55807322e+00,  -1.16195590e+02,  -6.05593313e+01,\n",
       "        -9.07392209e+01,  -1.37037207e+02,   1.49445389e+02,\n",
       "         7.17700219e+01,  -6.13293188e+01,  -1.09195946e+02,\n",
       "         2.22605668e+01,   7.04023248e+01,   8.51915599e+01,\n",
       "        -8.45421590e+01,   4.01806540e+01,  -3.82624809e+01,\n",
       "        -3.23797253e+02,  -3.79300445e+01,  -1.65656024e+02,\n",
       "         1.23902662e+02,  -5.51658074e+01,   3.23324992e+00,\n",
       "        -3.84169943e+01,  -1.93595848e+02,  -9.93183835e+01,\n",
       "        -3.56955136e+01,  -1.02734847e+02,  -5.53879645e+01,\n",
       "         1.39227235e+02,  -7.78064790e+01,   6.18435793e+01,\n",
       "         8.12653335e+01,  -2.51475472e+01,   3.28412013e+01,\n",
       "        -6.79029797e+01,   3.44128214e+01,  -5.40622398e+01,\n",
       "        -1.36733647e+02,  -1.12181624e+02,  -8.94840419e+01,\n",
       "        -5.12895785e+01,   2.43409989e+02,  -6.17407718e+00,\n",
       "        -5.21683165e+01,   3.23762508e+00,   2.43130389e+02,\n",
       "        -5.20281704e+01,  -1.12164228e+02,   2.37043317e+01,\n",
       "        -1.73104541e+02,   1.04030688e+01,   9.04284376e+01,\n",
       "         1.09141968e+02,   1.09091928e+02,   1.14336879e+02,\n",
       "        -1.24446953e+02,  -1.02001508e+02,   2.03449237e+02,\n",
       "         3.26605774e+01,  -3.35927841e+02,  -1.80928234e+01,\n",
       "        -1.61195353e+02,   7.80047329e+00,   2.08496102e+01,\n",
       "         6.13133586e+01,  -4.68673563e+01,   2.16881987e+01,\n",
       "         4.98235922e+01,   8.75889991e+01,   7.09802322e+01,\n",
       "         3.41633681e+01,   2.66669110e+01,  -5.22206646e+01,\n",
       "         3.18973238e+01,  -3.23877405e+01,   4.21901131e+00,\n",
       "         2.04917672e+02,   3.97720981e+01,  -1.15248541e+02,\n",
       "        -1.01008956e+02,  -1.05519078e+02,  -1.08531779e+02,\n",
       "         9.68757092e+01,   5.81997948e+01,  -2.00207105e+02,\n",
       "         9.58620429e+01,  -5.10779201e+01,  -2.66533719e+02,\n",
       "        -1.35106456e+02,   1.03709763e+02,   6.86994043e+01,\n",
       "         1.61346580e+02,  -8.60372504e-01,  -2.59148715e+01,\n",
       "         1.20756974e+02,   4.16561841e+01,   7.55517257e+01,\n",
       "        -2.29197382e+02,   9.05561517e-01,   4.32479583e+00,\n",
       "        -8.07113473e+01,   5.74998297e+01,   4.64095998e+01,\n",
       "         2.48082614e+01,   5.64646566e+01,  -1.97766474e+01,\n",
       "         1.64033141e+02,   5.63568694e+01,   8.47252728e+01,\n",
       "         4.84893292e+01,   8.94268299e+00,  -3.50453113e+00,\n",
       "        -1.11274257e+02,  -2.73641627e+01,  -5.06554330e+01,\n",
       "        -4.34118567e+01,  -5.57026698e+01,   4.42667337e+01,\n",
       "        -2.68779605e+01,   1.67353239e+02,   1.75134861e+02,\n",
       "        -4.97072865e+01,   2.75497290e+01,  -1.72481368e+02,\n",
       "        -8.78755424e+01,  -1.75275746e+01,   1.53737372e+02,\n",
       "         2.75622431e+02,  -3.90255816e+01,   2.16251512e+01,\n",
       "        -6.90504424e+00,  -1.92881052e+02,   1.08384730e+02,\n",
       "         4.03296538e+01,  -2.32706606e+01,  -6.17381147e+01,\n",
       "         9.56016411e+01,  -9.43984967e+01,   4.54391828e+00,\n",
       "        -3.14159662e+01,  -2.42204049e+01,  -1.69995837e+02,\n",
       "        -1.50357232e+02,  -1.21780760e+02,  -1.59131363e+02,\n",
       "        -1.76725619e+01,   9.53543561e+01,   6.54290443e+01,\n",
       "         2.16996924e+01,   4.52444582e+01,   2.07986668e+02,\n",
       "         3.76645596e+00,  -2.45244698e+01,   5.73342122e+00,\n",
       "        -1.44563699e+02,  -2.11394933e+02,  -4.22198471e+01,\n",
       "        -7.40628464e+01,  -3.80577129e+01,   3.76258220e+01,\n",
       "        -1.11114422e+01,   7.88238570e+01,   7.97805494e+01,\n",
       "        -2.74190071e+01,  -1.00961601e+02,  -6.17991998e+01,\n",
       "         3.31767399e+01,   6.76484061e+01,  -4.81965828e+01,\n",
       "        -1.04325592e+02,   6.82824337e+01,   5.69715373e+00,\n",
       "        -1.16506945e+02,   4.00175117e+01,   1.02712512e+02,\n",
       "         3.18275043e+01,  -1.71980843e+02,   1.79346643e+01,\n",
       "        -1.27182586e+02,  -6.41815703e+01,  -9.64960149e+01,\n",
       "        -3.24170747e+01,  -3.17938520e+01,   4.31313606e+01,\n",
       "         3.36743060e+01,  -4.04168437e+01,   1.35902733e+02,\n",
       "        -8.28475721e+00,  -9.13366000e+01,  -3.56685029e+01,\n",
       "         7.76525927e+01,  -6.95104115e+01,  -5.95066867e+01,\n",
       "        -1.08018173e+02,  -7.56690992e+01,   2.17144906e+02,\n",
       "        -1.33665392e+02,  -5.76642059e+01,   5.01766964e+01,\n",
       "         1.64292891e+02,   8.17178213e+01,  -6.52919444e+01,\n",
       "        -7.25293551e+01,  -1.93921297e+01,   8.45857269e+00,\n",
       "         7.52024547e+01,   2.38190389e+01,  -8.64586700e+01,\n",
       "         3.46042239e+01,  -1.21052474e+02,  -1.36047852e+02,\n",
       "        -1.20298692e+01,  -9.40731141e+01,   1.17253771e+01,\n",
       "         7.21422684e+01,  -2.42634524e+01,  -1.04083934e+01,\n",
       "         1.87461543e+02,   1.86044502e+02,   2.32693038e+01,\n",
       "        -8.77534944e+01,   9.68475199e-01,   6.96032054e+01,\n",
       "         6.54312600e+01,   1.37569750e+02,   8.94316407e+00,\n",
       "        -2.08664478e+00,  -2.23816737e+02,  -7.85948407e+01,\n",
       "         6.39259223e+01,   1.90029680e+02,  -1.09205503e+02,\n",
       "        -5.01370538e+01,   8.12004510e+01,   1.61795344e+02,\n",
       "        -1.24362920e+02,  -6.25893514e+01,   1.19096886e+02,\n",
       "        -5.11191186e+01,   6.73213545e+01,   1.27075158e+02,\n",
       "         1.18446473e+02,  -7.76210368e+01,   2.71167964e+01,\n",
       "         4.32078663e+00,  -1.71355286e+02,  -6.64919928e+01,\n",
       "        -1.51266026e+01,  -1.44527430e+01,   1.76527568e+02,\n",
       "        -2.42003686e+02,   6.07412159e+01,   9.61619235e+01,\n",
       "         7.12406736e+01,  -5.96162391e+01,   2.42110443e+02,\n",
       "         3.37062361e+01,  -1.37755139e+02,  -7.73150549e+01,\n",
       "        -2.67310911e-01,  -1.33553523e+01,   8.15727981e+01,\n",
       "        -1.68500485e+02,  -1.00401703e+02,  -1.85924474e+00,\n",
       "         2.05318570e+02,   4.71771242e+01,  -3.97268827e+01,\n",
       "         5.04322630e+01,  -6.67674318e+01,   9.97977571e+01,\n",
       "        -5.74183367e+01,   5.65524643e+01,   1.59375788e+02,\n",
       "        -3.47074361e+01,  -1.37227093e+02,  -2.25752605e+02,\n",
       "         7.06608769e+01,  -1.66437626e+02,  -2.25962625e+01,\n",
       "        -2.83590501e+01,  -1.13048787e+02,   3.57360369e+01,\n",
       "        -7.70204098e+01,   7.81098018e+01,   2.17344049e+02,\n",
       "        -3.92102053e+01,   1.14530011e+01,  -3.51561387e+00,\n",
       "         1.39742169e+02,   2.05942667e+02,   9.41383533e+00,\n",
       "        -3.41007962e+01,  -9.58940528e+01,   7.95798009e+01,\n",
       "        -7.61576957e+01,  -7.05838707e+01,   2.78489070e+01,\n",
       "         1.53591295e+02,   1.02778680e+01,   3.19423429e+01,\n",
       "         1.08849734e+01,  -3.84202294e+01,  -1.01664151e+02,\n",
       "         1.03793339e+02,   8.50825634e+01,   5.11118985e+01,\n",
       "        -1.84050624e+00,   3.95230895e+01,   6.12913556e+01,\n",
       "         1.57576755e+01,  -3.90647170e+01,   6.93460573e+01,\n",
       "         1.57193937e+02,   2.43733025e+01,   1.79909510e+02,\n",
       "        -3.27759572e+01,   1.07288049e+02,  -4.37500030e+01,\n",
       "         5.24257380e+01,  -1.96920641e+02,  -4.95744509e+01,\n",
       "         2.77356591e+01,  -6.69676206e+01,  -1.07485147e+01,\n",
       "         5.61454068e+00,   4.82381097e+01,   2.16969436e+01,\n",
       "         2.65550679e+01,   1.55969321e+02,   1.27694094e+02,\n",
       "         1.38308449e+01,   1.61974604e+02,   6.63525858e+01,\n",
       "        -4.56425513e+01,  -5.00505824e+01,  -1.18593797e+01,\n",
       "         3.54159075e+01,  -1.54297538e+02,  -1.84771967e+02,\n",
       "        -2.06201528e+01,  -4.46241312e+00,   1.45022790e+02,\n",
       "         7.66845096e+00,  -1.80851584e+01,   1.20823954e+02,\n",
       "         5.97406923e+01,  -9.66376567e+01,  -8.09277086e+00,\n",
       "         1.33448528e+02,  -4.08391663e+01,   1.28967773e+02,\n",
       "         2.44098461e-01,  -1.17871764e+01,  -4.06751946e+01,\n",
       "         9.51057179e+01,  -4.63977651e+01,  -2.83625961e+01,\n",
       "        -1.97952254e+02,  -1.15835530e+02,   2.14761200e+02,\n",
       "         9.11920362e+01,   4.57824009e+01,   1.85496422e+02,\n",
       "         1.72625094e+02,  -3.45676918e+01,   1.39944720e+02,\n",
       "        -1.23295179e+02,  -1.26962971e+02,   1.39303534e+01,\n",
       "         4.14614786e+01,  -2.80541560e+02,  -1.21525000e+02,\n",
       "        -2.25582718e+00,   1.44997045e+01,   6.02991019e+01,\n",
       "         5.45137879e+01,   3.99445865e+00,   1.16714753e+02,\n",
       "        -7.64906121e-01,   2.67997536e+01,   1.00916860e+02,\n",
       "         2.55383592e+02,   1.88677462e+00,   6.46970204e+00,\n",
       "        -6.89820541e+01,  -8.83261367e+01,   1.14866585e+02,\n",
       "         1.90207350e+01,   2.49340411e+01,   3.76398154e+01,\n",
       "         3.11814141e+01,   5.09638068e+01,  -7.70977160e+01,\n",
       "        -5.83739828e+01,   1.53712943e+02,   1.27266215e+02,\n",
       "        -7.76714668e+01,   7.39860766e+01,  -9.59255593e+01,\n",
       "        -7.07238979e+01,  -1.27783602e+01,   6.13544136e+01,\n",
       "         2.80039578e+01,  -3.17381220e+01,  -2.62988840e+01,\n",
       "        -6.88736041e+00,  -1.35427205e+02,   1.29489323e+02,\n",
       "        -8.53477031e+00,   2.62672117e+01,   1.91623704e+02,\n",
       "         1.30961043e+02,  -2.36410995e+02,  -1.10645391e+02,\n",
       "        -4.17815782e+00,  -4.55559189e+01,  -3.66712206e+01,\n",
       "         1.17001601e+02,  -7.22795975e+01,  -3.90151846e+01,\n",
       "        -1.87781919e+02,   1.18477377e+01,   1.29412349e+02,\n",
       "         1.61558846e+02,  -1.41682525e+02,  -1.85746225e+02,\n",
       "        -1.20524038e+02,   2.73677531e+01,   4.71905220e+01,\n",
       "        -1.36500248e+02,  -2.11317394e+01,  -1.29640198e+02,\n",
       "         1.06660406e+02,  -2.25080250e+02,   7.39553528e+01,\n",
       "        -3.68213927e+01,  -9.47656007e+01,   1.64892643e-02,\n",
       "        -4.35475162e+01,   1.75273394e+02,  -7.51344705e+01,\n",
       "         1.61295503e+02,  -1.81517962e+01,   1.08925920e+02,\n",
       "         1.11800979e+02,  -1.06147150e+02,   5.60341784e+01,\n",
       "         1.42599341e+02,   1.55217817e+02,  -4.46203476e+01,\n",
       "         4.79008397e+01,  -2.32598904e+01,  -1.22230246e+02,\n",
       "        -1.61273191e+00,   8.47479380e+01,  -8.95943727e+01,\n",
       "         1.02179034e+02,  -6.93025430e+01,   8.35657703e+01,\n",
       "         1.16885492e+02,   3.55252825e+01,  -1.56968885e+02,\n",
       "         8.59497702e+01,   1.46248013e+02,  -1.55649941e+02,\n",
       "         3.75657523e+01,   3.16820285e+01,  -4.67396182e+01,\n",
       "        -4.02311675e+01,  -1.87376039e+01,   1.23421716e+02,\n",
       "        -1.08897236e+02,   1.56352382e+02,   2.53530592e+01,\n",
       "        -2.04931589e+01,  -6.22507554e+01,  -3.92984561e+01,\n",
       "        -8.85527548e+00,   1.28068314e+01,   1.41958850e+02,\n",
       "         1.55229986e+02,  -9.90049104e+01,   8.67933671e+00,\n",
       "        -6.32201262e+01,  -1.17170199e+01,   3.09869665e+01,\n",
       "        -1.34882517e+02,  -1.47903048e+01,   1.60428386e+02,\n",
       "         1.45074731e+02,  -2.19617151e+02,   6.63160679e+01,\n",
       "         1.82798257e+02,   7.78444955e+01,   1.37901610e+02,\n",
       "        -1.04526049e+02,   8.62992487e+01,   1.28785464e+00,\n",
       "         8.74056568e+01,   4.81034497e+01,  -9.14604212e+01,\n",
       "         9.09297127e+00,  -5.71779753e+01,   1.05057241e+02,\n",
       "        -1.36116902e+01,   1.94488430e+02,  -4.76976540e+01,\n",
       "         1.17967752e+02,   1.00617295e+02,   4.16168097e+01,\n",
       "         1.07817506e+02,   1.48500373e+02,   3.74425489e+01,\n",
       "        -1.72376734e+02,  -9.73191446e+00,  -6.74239496e+01,\n",
       "         1.48387173e+02,  -2.39601521e+02,   1.00091671e+02,\n",
       "         5.67458786e+01,  -7.58861865e+01,  -8.46012627e+01,\n",
       "         1.28089456e+02,  -1.81707922e+02,   1.36560251e+01,\n",
       "        -5.08299909e+01,  -4.21531076e+01,  -2.95566441e+01,\n",
       "        -6.61584481e+01,   1.12523457e+02,  -8.57409101e+01,\n",
       "         3.04504451e+01,   1.58889545e+02,  -3.60542858e+01,\n",
       "        -2.21943535e+01,  -1.22129711e+02,   7.40629608e+01,\n",
       "        -5.37924042e+01,  -1.13427447e+02,  -3.54325293e+01,\n",
       "         4.39239767e+01,  -2.09953638e-01,  -2.13890439e+02,\n",
       "         6.65948808e+01,  -9.32679378e+01,   2.01689307e+02,\n",
       "        -6.86697756e+01,   1.19588678e+02,  -1.43672926e+02,\n",
       "         1.22645397e+02,  -4.11486416e+01,   1.59737505e+02,\n",
       "        -1.15209536e+02,   9.20507002e+01,   1.04856907e+02,\n",
       "         5.90041309e+00,   1.02237081e+02,   4.13857063e+01,\n",
       "        -1.72025160e+02,   5.54261712e+01,   5.44300420e+01,\n",
       "         4.79337535e+01,  -1.53930311e+02,  -1.29944850e+02,\n",
       "         3.44529990e+01,   8.46755892e+01,   2.09310396e+02,\n",
       "        -3.00214002e+01,  -2.76806060e+01,   1.63798903e+00,\n",
       "        -4.55793590e+01,   8.33844348e+01,  -1.85965291e+01,\n",
       "         3.47116283e+01,   1.23895326e+02,   4.52967660e-01,\n",
       "         2.25028539e+02,   1.42944078e+01,  -1.30876207e+02,\n",
       "         9.57218263e+01,   1.90117725e+01,  -1.53673348e+02,\n",
       "         4.80310261e+01,   1.97293829e+02,   1.02927806e+01,\n",
       "         2.21839061e+01,   4.69967379e+01,   7.47625739e+01,\n",
       "         1.27705787e+02,   1.53438292e+02,  -2.24309865e+02,\n",
       "         1.11589595e+02,  -3.54477157e+01,  -8.73847612e+01,\n",
       "        -2.27761011e+01,   3.04248872e+01,  -1.02214830e+02,\n",
       "        -1.49116124e+02,  -9.63429347e+00,   4.90459618e+01,\n",
       "         6.03032633e+01,  -1.25371926e+02,  -8.73316830e+01,\n",
       "        -9.58326368e+01,   1.12656646e+02,   5.80394184e+01,\n",
       "        -2.82435240e+01,   1.51921871e+02,   6.15103636e+01,\n",
       "         4.66397729e+00,   3.63602744e+01,  -1.57312741e+00,\n",
       "        -1.73662915e+02,  -6.16962056e+01,   2.43102013e+02,\n",
       "        -3.83558927e+01,   8.43163146e+00,  -2.73674608e+01,\n",
       "        -5.17660537e+01,  -1.15479969e+02,   1.12526323e+01,\n",
       "         1.11674538e+02,  -5.58279010e+01,   1.58508379e+01,\n",
       "         8.39433150e+01,   7.22087253e+01,  -6.28485980e+01,\n",
       "         6.01737336e-01,  -6.68506508e+01,   1.52696254e+02,\n",
       "         4.61126371e+01,   2.14259041e+01,  -1.77859858e+02,\n",
       "        -7.76239181e+01,   1.10561859e+02,  -6.25620216e+01,\n",
       "        -3.55431968e+01,  -2.45900293e+01,  -4.56864275e+01,\n",
       "        -1.65642241e+02,   1.21598188e+02,  -2.10220345e+02,\n",
       "        -6.15342778e+01,  -1.63447782e+01,  -1.94752935e+01,\n",
       "        -5.04457314e+00,   3.48875758e+01,  -3.67773635e+00,\n",
       "        -6.54563722e+01,  -1.15492570e+02,   5.70409702e+01,\n",
       "         3.38785067e+01,   9.94647589e+00,  -1.02109193e+01,\n",
       "        -1.15718528e+02,   3.26230607e+01,   1.32440450e+02,\n",
       "         5.38514077e+01,  -1.34328089e+02,  -1.24076175e+02,\n",
       "         2.81519845e+01,  -1.16800015e+01,  -8.28316638e+01,\n",
       "         7.58297875e+01,   9.02610214e+00,  -1.39621762e+02,\n",
       "        -9.97914577e+01,   6.66784762e+01,   8.59683824e+01,\n",
       "        -7.49423638e+01,  -9.05316644e+01,   2.02459731e+02,\n",
       "         6.57407121e+01,   1.20713795e+02,  -3.49109181e+01,\n",
       "        -5.84656138e+01,   1.32312046e+02,   1.39316632e+02,\n",
       "        -7.63488576e+01,   1.19424318e+01,   1.37234931e+02,\n",
       "        -4.53018597e+01,   1.66206411e+02,  -4.80240667e+00,\n",
       "         5.09592675e+01,  -9.83706727e-02,  -7.87799245e+01,\n",
       "         6.47160929e+01,   5.16967580e+01,  -1.52319748e+02,\n",
       "        -3.34506781e+01,  -5.15782108e+01,  -2.83878525e+01,\n",
       "        -8.41534755e+01,  -8.71132957e+01,  -1.66795633e+02,\n",
       "        -5.42314638e+00,  -3.05652084e+01,  -2.46265569e+02,\n",
       "         4.15166542e+01,  -1.28423761e+02,  -2.74798258e+02,\n",
       "         1.51409035e+02,   9.83939539e+01,   4.22121422e+01,\n",
       "         2.08553817e+01,  -7.77971787e+01,  -1.93896436e+01,\n",
       "         8.27983453e+01,   1.77528921e+02,  -9.43898942e+01,\n",
       "        -1.07754502e+02,  -5.32725349e+01,   4.88998060e+01,\n",
       "         7.91333339e+01,   1.69484085e+02,  -6.98142988e+01,\n",
       "        -1.02598660e+02,   6.62515101e+01,  -4.23265339e+01,\n",
       "         9.02951355e+01,   2.93313896e+01,  -3.21029731e+01,\n",
       "         5.36490657e+01,   2.51580459e+02,   3.22751169e+01,\n",
       "        -6.13849214e+01,  -1.58641844e+02,  -8.17327517e-01,\n",
       "         3.54587315e+01,   8.08247467e+01,  -8.95032889e+01,\n",
       "         4.77104985e+01,  -3.46471059e+01,  -8.74238935e+01,\n",
       "         7.40641768e+01,  -5.60209734e+01,  -9.52013118e+01,\n",
       "         1.82931818e+02,   9.06721657e+01,  -1.07779008e+02,\n",
       "         8.68710690e+01,  -3.08558505e+01,   4.17600003e+00,\n",
       "         1.24670390e+02,   7.48884332e+01,  -9.19183134e+01,\n",
       "         8.37956398e+01,   2.52626263e+01,  -2.00348794e+02,\n",
       "        -6.18017733e+01,   3.34694848e+01,  -1.06863865e+02,\n",
       "        -7.11425447e+01,   2.09265517e+02,  -4.78662875e+01,\n",
       "         2.83807935e+00,   1.42119395e+01,   1.58439942e+01,\n",
       "         3.78426932e+01,   4.08879565e+01,  -6.01616948e+01,\n",
       "         9.63972588e+01,   7.56657066e+01,  -1.04286940e+02,\n",
       "         7.20217993e+01,  -1.02763904e+02,   1.10734191e+02,\n",
       "         2.27670478e+02,   6.41719678e+01,  -1.15729557e+02,\n",
       "         1.56389194e+02,  -1.75797316e+01,   1.73690904e+02,\n",
       "         9.46899570e+01,   3.34414728e+01,   4.39414854e+01,\n",
       "         1.82668753e+02,   1.12794605e+01,  -2.34875560e+01,\n",
       "         4.13364762e+01,   1.72434589e+02,   7.58552428e+01,\n",
       "        -4.50050008e+00,  -7.90901135e+00,   1.36609339e+02,\n",
       "        -2.65368690e+01,   9.27141422e+01,  -6.34657873e+00,\n",
       "        -4.66613611e+01,  -5.38673452e+01,  -8.22129317e+01,\n",
       "        -2.55731252e+01,   1.65481890e+02,   1.08692621e+01,\n",
       "        -1.46332023e+01,   2.13598060e+02,   5.72647953e+01,\n",
       "         4.48177441e+01,  -3.24445777e+01,  -2.43745807e+01,\n",
       "         1.58792219e+01,  -1.21826408e+02,  -2.56454902e+01,\n",
       "         7.19958238e+01])"
      ]
     },
     "execution_count": 51,
     "metadata": {},
     "output_type": "execute_result"
    }
   ],
   "source": [
    "n"
   ]
  },
  {
   "cell_type": "code",
   "execution_count": 64,
   "metadata": {
    "collapsed": false
   },
   "outputs": [
    {
     "data": {
      "image/png": "[encoded data removed]",
      "text/plain": [
       "<matplotlib.figure.Figure at 0x10d9ef3d0>"
      ]
     },
     "metadata": {},
     "output_type": "display_data"
    }
   ],
   "source": [
    "import scipy as sp\n",
    "from scipy import stats\n",
    "from matplotlib import pyplot as plt\n",
    "from scipy import interpolate\n",
    "\n",
    "def simulate_poisson(mu,  simulations):\n",
    "\n",
    "\n",
    "    # Draw random samples from the Poisson distribution, to simulate\n",
    "    # the observed events per 2 second interval.\n",
    "    counts = stats.poisson.rvs(mu, size=simulations)\n",
    "\n",
    "    # Bins for the histogram: only the last bin is closed on both\n",
    "    # sides. We need one more bin than the maximum value of count, so\n",
    "    # that the maximum value goes in its own bin instead of getting\n",
    "    # added to the previous bin.\n",
    "    # [0,1), [1, 2), ..., [max(counts), max(counts)+1]\n",
    "    bins = range(0, max(counts)+2)\n",
    "\n",
    "    # Plot histogram.\n",
    "    plt.hist(counts, bins=bins, align=\"left\", histtype=\"step\", color=\"black\")\n",
    "    \n",
    "\n",
    "simulate_poisson(5, 1000)"
   ]
  },
  {
   "cell_type": "code",
   "execution_count": 65,
   "metadata": {
    "collapsed": false
   },
   "outputs": [
    {
     "data": {
      "image/png": "[encoded data removed]",
      "text/plain": [
       "<matplotlib.figure.Figure at 0x10d9f9210>"
      ]
     },
     "metadata": {},
     "output_type": "display_data"
    }
   ],
   "source": [
    "from scipy.stats import lognorm\n",
    "import matplotlib.pyplot as plt\n",
    "fig, ax = plt.subplots(1, 1)"
   ]
  },
  {
   "cell_type": "code",
   "execution_count": 66,
   "metadata": {
    "collapsed": true
   },
   "outputs": [],
   "source": [
    "s = 0.953682269606\n",
    "mean, var, skew, kurt = lognorm.stats(s, moments='mvsk')"
   ]
  },
  {
   "cell_type": "code",
   "execution_count": 67,
   "metadata": {
    "collapsed": false
   },
   "outputs": [
    {
     "data": {
      "text/plain": [
       "[<matplotlib.lines.Line2D at 0x10daaad50>]"
      ]
     },
     "execution_count": 67,
     "metadata": {},
     "output_type": "execute_result"
    }
   ],
   "source": [
    "x = np.linspace(lognorm.ppf(0.01, s),\n",
    "              lognorm.ppf(0.99, s), 100)\n",
    "ax.plot(x, lognorm.pdf(x, s),\n",
    "         'r-', lw=5, alpha=0.6, label='lognorm pdf')"
   ]
  },
  {
   "cell_type": "code",
   "execution_count": 68,
   "metadata": {
    "collapsed": false
   },
   "outputs": [
    {
     "ename": "SyntaxError",
     "evalue": "invalid syntax (<ipython-input-68-7d48a1a14daa>, line 1)",
     "output_type": "error",
     "traceback": [
      "\u001b[0;36m  File \u001b[0;32m\"<ipython-input-68-7d48a1a14daa>\"\u001b[0;36m, line \u001b[0;32m1\u001b[0m\n\u001b[0;31m    lognorm.interval(.999,s, loc=0,scale=!)\u001b[0m\n\u001b[0m                                         ^\u001b[0m\n\u001b[0;31mSyntaxError\u001b[0m\u001b[0;31m:\u001b[0m invalid syntax\n"
     ]
    }
   ],
   "source": [
    "stats.lognorm.rvs(.999,s, loc=0,scale=!)"
   ]
  },
  {
   "cell_type": "code",
   "execution_count": 82,
   "metadata": {
    "collapsed": false
   },
   "outputs": [
    {
     "data": {
      "text/plain": [
       "(3.0759875111653657e-09, 325098849.18913114)"
      ]
     },
     "execution_count": 82,
     "metadata": {},
     "output_type": "execute_result"
    }
   ],
   "source": [
    "stats.lognorm.interval(0.95,10, loc=0)"
   ]
  },
  {
   "cell_type": "code",
   "execution_count": 83,
   "metadata": {
    "collapsed": false
   },
   "outputs": [
    {
     "name": "stdout",
     "output_type": "stream",
     "text": [
      "0.140259699945 0 0.000484275337537\n",
      "-7.63285693379 0.140259699945\n"
     ]
    }
   ],
   "source": [
    "# lognorm(mu=10,sigma=3)\n",
    "# so shape=3, loc=0, scale=np.exp(10) ?\n",
    "x=np.linspace(0.01,20,200)\n",
    "sample_dist = sp.stats.lognorm.pdf(x, 3, loc=0, scale=np.exp(10))\n",
    "shape, loc, scale = sp.stats.lognorm.fit(sample_dist, floc=0)\n",
    "print shape, loc, scale\n",
    "print np.log(scale), shape # mu and sigma\n",
    "# last line: -7.63285693379 0.140259699945  # not 10 and 3"
   ]
  },
  {
   "cell_type": "code",
   "execution_count": 84,
   "metadata": {
    "collapsed": false
   },
   "outputs": [
    {
     "name": "stdout",
     "output_type": "stream",
     "text": [
      "(0.49826684207144645, 0.03403632306285781, 0.97305473523290575)\n"
     ]
    },
    {
     "name": "stderr",
     "output_type": "stream",
     "text": [
      "/Users/x/anaconda/lib/python2.7/site-packages/scipy/stats/_continuous_distns.py:2711: RuntimeWarning: divide by zero encountered in log\n",
      "  return -log(x)**2 / (2*s**2) + np.where(x == 0, 0, -log(s*x*sqrt(2*pi)))\n"
     ]
    },
    {
     "data": {
      "text/plain": [
       "(array([ 0.12672991,  0.49539875,  0.88710939,  0.93607322,  0.86118736,\n",
       "         0.59620663,  0.49251852,  0.39459086,  0.28226208,  0.16705307,\n",
       "         0.17569374,  0.09792766,  0.07776608,  0.04320338,  0.0345627 ,\n",
       "         0.02592203,  0.01440113,  0.00864068,  0.00864068,  0.00576045,\n",
       "         0.00288023,  0.00288023,  0.00288023,  0.00288023,  0.00288023,\n",
       "         0.        ,  0.00288023,  0.00576045,  0.        ,  0.00576045]),\n",
       " array([ 0.2196336 ,  0.39323113,  0.56682866,  0.7404262 ,  0.91402373,\n",
       "         1.08762126,  1.26121879,  1.43481632,  1.60841386,  1.78201139,\n",
       "         1.95560892,  2.12920645,  2.30280399,  2.47640152,  2.64999905,\n",
       "         2.82359658,  2.99719411,  3.17079165,  3.34438918,  3.51798671,\n",
       "         3.69158424,  3.86518177,  4.03877931,  4.21237684,  4.38597437,\n",
       "         4.5595719 ,  4.73316943,  4.90676697,  5.0803645 ,  5.25396203,\n",
       "         5.42755956]),\n",
       " <a list of 30 Patch objects>)"
      ]
     },
     "execution_count": 84,
     "metadata": {},
     "output_type": "execute_result"
    },
    {
     "data": {
      "image/png": "[encoded data removed]",
      "text/plain": [
       "<matplotlib.figure.Figure at 0x10dab3410>"
      ]
     },
     "metadata": {},
     "output_type": "display_data"
    }
   ],
   "source": [
    "samp=sp.stats.lognorm(0.5,loc=0,scale=1).rvs(size=2000) # sample\n",
    "param=sp.stats.lognorm.fit(samp) # fit the sample data\n",
    "print param # does not coincide  with shape, loc, scale above!\n",
    "x=np.linspace(0,4,100)\n",
    "pdf_fitted = sp.stats.lognorm.pdf(x, param[0], loc=param[1], scale=param[2]) # fitted distribution\n",
    "pdf = sp.stats.lognorm.pdf(x, 0.5, loc=0, scale=1) # original distribution\n",
    "plt.plot(x,pdf_fitted,'r-',x,pdf,'g-')\n",
    "plt.hist(samp,bins=30,normed=True,alpha=.3)"
   ]
  },
  {
   "cell_type": "code",
   "execution_count": 92,
   "metadata": {
    "collapsed": false
   },
   "outputs": [
    {
     "data": {
      "text/plain": [
       "(array([  2.18171467e-69,   0.00000000e+00,   0.00000000e+00,\n",
       "          0.00000000e+00,   0.00000000e+00,   0.00000000e+00,\n",
       "          0.00000000e+00,   0.00000000e+00,   0.00000000e+00,\n",
       "          0.00000000e+00,   0.00000000e+00,   0.00000000e+00,\n",
       "          0.00000000e+00,   0.00000000e+00,   0.00000000e+00,\n",
       "          0.00000000e+00,   0.00000000e+00,   0.00000000e+00,\n",
       "          0.00000000e+00,   0.00000000e+00,   0.00000000e+00,\n",
       "          0.00000000e+00,   0.00000000e+00,   0.00000000e+00,\n",
       "          0.00000000e+00,   0.00000000e+00,   0.00000000e+00,\n",
       "          0.00000000e+00,   0.00000000e+00,   1.09140303e-72]),\n",
       " array([  5.15308303e-73,   4.58125902e+68,   9.16251805e+68,\n",
       "          1.37437771e+69,   1.83250361e+69,   2.29062951e+69,\n",
       "          2.74875541e+69,   3.20688132e+69,   3.66500722e+69,\n",
       "          4.12313312e+69,   4.58125902e+69,   5.03938493e+69,\n",
       "          5.49751083e+69,   5.95563673e+69,   6.41376263e+69,\n",
       "          6.87188854e+69,   7.33001444e+69,   7.78814034e+69,\n",
       "          8.24626624e+69,   8.70439215e+69,   9.16251805e+69,\n",
       "          9.62064395e+69,   1.00787699e+70,   1.05368958e+70,\n",
       "          1.09950217e+70,   1.14531476e+70,   1.19112735e+70,\n",
       "          1.23693994e+70,   1.28275253e+70,   1.32856512e+70,\n",
       "          1.37437771e+70]),\n",
       " <a list of 30 Patch objects>)"
      ]
     },
     "execution_count": 92,
     "metadata": {},
     "output_type": "execute_result"
    },
    {
     "data": {
      "image/png": "[encoded data removed]",
      "text/plain": [
       "<matplotlib.figure.Figure at 0x10df6c4d0>"
      ]
     },
     "metadata": {},
     "output_type": "display_data"
    }
   ],
   "source": [
    "samp=sp.stats.lognorm(50,loc=0,scale=10).rvs(size=2000) # sample\n",
    "\n",
    "plt.hist(samp,bins=30,normed=True,alpha=.3)"
   ]
  },
  {
   "cell_type": "code",
   "execution_count": 114,
   "metadata": {
    "collapsed": false
   },
   "outputs": [
    {
     "data": {
      "image/png": "[encoded data removed]",
      "text/plain": [
       "<matplotlib.figure.Figure at 0x10f200b90>"
      ]
     },
     "metadata": {},
     "output_type": "display_data"
    }
   ],
   "source": [
    "mu, sigma = 1, 10 # mean and standard deviation\n",
    "s = np.random.normal(0, 1, 1000)\n",
    "x = np.exp(s*sigma+mu)\n",
    "plt.hist(x, 50, normed=True)\n",
    "plt.show()"
   ]
  },
  {
   "cell_type": "code",
   "execution_count": 113,
   "metadata": {
    "collapsed": false
   },
   "outputs": [
    {
     "data": {
      "image/png": "[encoded data removed]",
      "text/plain": [
       "<matplotlib.figure.Figure at 0x10f7df8d0>"
      ]
     },
     "metadata": {},
     "output_type": "display_data"
    }
   ],
   "source": [
    " "
   ]
  },
  {
   "cell_type": "code",
   "execution_count": 130,
   "metadata": {
    "collapsed": false
   },
   "outputs": [
    {
     "name": "stderr",
     "output_type": "stream",
     "text": [
      "/Users/x/anaconda/lib/python2.7/site-packages/IPython/kernel/__main__.py:4: RuntimeWarning: divide by zero encountered in divide\n",
      "/Users/x/anaconda/lib/python2.7/site-packages/IPython/kernel/__main__.py:4: RuntimeWarning: divide by zero encountered in log\n",
      "/Users/x/anaconda/lib/python2.7/site-packages/IPython/kernel/__main__.py:4: RuntimeWarning: invalid value encountered in multiply\n"
     ]
    },
    {
     "data": {
      "image/png": "[encoded data removed]",
      "text/plain": [
       "<matplotlib.figure.Figure at 0x10f4d6f10>"
      ]
     },
     "metadata": {},
     "output_type": "display_data"
    }
   ],
   "source": [
    "u=2000 # mean\n",
    "s=100 # standard deviation\n",
    "x=np.arange(0,150,1)\n",
    "y=(1/(x*s* (np.sqrt(2*np.pi))))*np.exp(-(((np.log (x)-u)**2)/(2*s*s)))\n",
    "#y=(1/(np.sqrt(2*np.pi*s*s)))*np.exp(-(((x-u)**2)/(2*s*s)))\n",
    "plt.plot(x,y,'-')\n",
    "plt.title('LogNormal PDF: $\\mu$=%.1f, $\\sigma$=%.1f' % (u,s),fontsize=15)\n",
    "plt.xlabel('x',fontsize=15)\n",
    "plt.ylabel('Probability density',fontsize=15)\n",
    "plt.show()"
   ]
  },
  {
   "cell_type": "code",
   "execution_count": 139,
   "metadata": {
    "collapsed": false
   },
   "outputs": [
    {
     "data": {
      "image/png": "[encoded data removed]",
      "text/plain": [
       "<matplotlib.figure.Figure at 0x10e52a890>"
      ]
     },
     "metadata": {},
     "output_type": "display_data"
    }
   ],
   "source": [
    "u=27 # mean\n",
    "s=1 # standard deviation\n",
    "x=np.arange(-200,605,0.1)\n",
    "y=(1/(np.sqrt(2*np.pi*s*s)))*np.exp(-(((x-u)**2)/(2*s*s)))\n",
    "plt.plot(x,np.sqrt(y),'-')\n",
    "plt.title(' PDF: $\\mu$=%.1f, $\\sigma$=%.1f' % (u,s),fontsize=15)\n",
    "plt.xlabel('x',fontsize=15)\n",
    "plt.ylabel('Probability density',fontsize=15)\n",
    "plt.show()"
   ]
  },
  {
   "cell_type": "code",
   "execution_count": 7,
   "metadata": {
    "collapsed": true
   },
   "outputs": [],
   "source": [
    "%matplotlib inline\n",
    "import numpy as np\n",
    "from scipy import stats\n",
    "import statsmodels.api as sm\n",
    "import matplotlib.pyplot as plt\n",
    "from statsmodels.distributions.mixture_rvs import mixture_rvs"
   ]
  },
  {
   "cell_type": "code",
   "execution_count": 2,
   "metadata": {
    "collapsed": true
   },
   "outputs": [],
   "source": [
    "np.random.seed(12345)\n"
   ]
  },
  {
   "cell_type": "code",
   "execution_count": 21,
   "metadata": {
    "collapsed": false
   },
   "outputs": [
    {
     "data": {
      "text/plain": [
       "(array([  1.36155601e-04,   1.36155601e-04,   2.72311201e-04,\n",
       "          4.08466802e-04,   5.44622402e-04,   5.44622402e-04,\n",
       "          9.53089204e-04,   1.40240269e-02,   6.35710499e-01,\n",
       "          4.07105246e-02,   7.89702483e-03,   8.16933603e-03,\n",
       "          9.66704764e-03,   1.47048049e-02,   1.75640725e-02,\n",
       "          1.81086949e-02,   2.38272301e-02,   2.50526305e-02,\n",
       "          3.02265433e-02,   3.52643005e-02,   3.88043462e-02,\n",
       "          3.77151014e-02,   3.82597238e-02,   4.12551470e-02,\n",
       "          4.12551470e-02,   3.77151014e-02,   3.55366118e-02,\n",
       "          3.54004562e-02,   3.19965661e-02,   2.83203649e-02,\n",
       "          2.20572073e-02,   1.91979397e-02,   1.74279169e-02,\n",
       "          1.42963381e-02,   8.03318043e-03,   8.98626964e-03,\n",
       "          6.80778003e-03,   3.26773441e-03,   4.22082362e-03,\n",
       "          2.04233401e-03,   1.90617841e-03,   1.08924480e-03,\n",
       "          2.72311201e-04,   6.80778003e-04,   4.08466802e-04,\n",
       "          4.08466802e-04,   1.36155601e-04,   0.00000000e+00,\n",
       "          0.00000000e+00,   1.36155601e-04]),\n",
       " array([ -7.29249538,  -6.55804157,  -5.82358776,  -5.08913394,\n",
       "         -4.35468013,  -3.62022632,  -2.88577251,  -2.15131869,\n",
       "         -1.41686488,  -0.68241107,   0.05204275,   0.78649656,\n",
       "          1.52095037,   2.25540419,   2.989858  ,   3.72431181,\n",
       "          4.45876562,   5.19321944,   5.92767325,   6.66212706,\n",
       "          7.39658088,   8.13103469,   8.8654885 ,   9.59994231,\n",
       "         10.33439613,  11.06884994,  11.80330375,  12.53775757,\n",
       "         13.27221138,  14.00666519,  14.74111901,  15.47557282,\n",
       "         16.21002663,  16.94448044,  17.67893426,  18.41338807,\n",
       "         19.14784188,  19.8822957 ,  20.61674951,  21.35120332,\n",
       "         22.08565714,  22.82011095,  23.55456476,  24.28901857,\n",
       "         25.02347239,  25.7579262 ,  26.49238001,  27.22683383,\n",
       "         27.96128764,  28.69574145,  29.43019526]),\n",
       " <a list of 50 Patch objects>)"
      ]
     },
     "execution_count": 21,
     "metadata": {},
     "output_type": "execute_result"
    },
    {
     "data": {
      "image/png": "[encoded data removed]",
      "text/plain": [
       "<matplotlib.figure.Figure at 0x11059c9d0>"
      ]
     },
     "metadata": {},
     "output_type": "display_data"
    }
   ],
   "source": [
    "obs_dist1 = mixture_rvs([.5,.5], size=10000, dist=[stats.norm, stats.norm],\n",
    "                kwargs = (dict(loc=-1,scale=.2),dict(loc=10,scale=5)))\n",
    "fig = plt.figure(figsize=(12,8))\n",
    "ax = fig.add_subplot(111)\n",
    "ax.hist(obs_dist1, bins=50, normed=True, color='red')"
   ]
  },
  {
   "cell_type": "code",
   "execution_count": 13,
   "metadata": {
    "collapsed": true
   },
   "outputs": [],
   "source": [
    "kde = sm.nonparametric.KDEUnivariate(obs_dist1)\n",
    "kde.fit()"
   ]
  },
  {
   "cell_type": "code",
   "execution_count": 15,
   "metadata": {
    "collapsed": false
   },
   "outputs": [
    {
     "data": {
      "text/plain": [
       "[<matplotlib.lines.Line2D at 0x10f98f510>]"
      ]
     },
     "execution_count": 15,
     "metadata": {},
     "output_type": "execute_result"
    },
    {
     "data": {
      "image/png": "[encoded data removed]",
      "text/plain": [
       "<matplotlib.figure.Figure at 0x109685e10>"
      ]
     },
     "metadata": {},
     "output_type": "display_data"
    }
   ],
   "source": [
    "fig = plt.figure(figsize=(12,8))\n",
    "ax = fig.add_subplot(111)\n",
    "ax.plot(kde.support, kde.density, lw=2, color='black')"
   ]
  },
  {
   "cell_type": "code",
   "execution_count": 49,
   "metadata": {
    "collapsed": false
   },
   "outputs": [
    {
     "data": {
      "text/plain": [
       "(array([ 0.01340802,  0.01340802,  0.        ,  0.01340802,  0.02681605,\n",
       "         0.01340802,  0.05363209,  0.06704011,  0.20112034,  0.18771232,\n",
       "         0.33520057,  0.50950487,  0.67040114,  0.53632091,  1.01900973,\n",
       "         1.24694612,  1.30057821,  1.8234911 ,  2.2391398 ,  2.73523665,\n",
       "         2.90954094,  3.62016615,  3.82128649,  4.02240683,  3.91514265,\n",
       "         3.68720626,  4.2369352 ,  3.63357417,  3.68720626,  3.21792547,\n",
       "         3.44586185,  2.68160456,  2.17209969,  2.13187562,  1.59555471,\n",
       "         1.16649798,  1.04582578,  0.80448137,  0.63017707,  0.41564871,\n",
       "         0.2949765 ,  0.2949765 ,  0.24134441,  0.20112034,  0.04022407,\n",
       "         0.04022407,  0.05363209,  0.        ,  0.01340802,  0.01340802]),\n",
       " array([ 0.61834125,  0.63325769,  0.64817413,  0.66309057,  0.67800702,\n",
       "         0.69292346,  0.7078399 ,  0.72275634,  0.73767279,  0.75258923,\n",
       "         0.76750567,  0.78242211,  0.79733855,  0.812255  ,  0.82717144,\n",
       "         0.84208788,  0.85700432,  0.87192077,  0.88683721,  0.90175365,\n",
       "         0.91667009,  0.93158654,  0.94650298,  0.96141942,  0.97633586,\n",
       "         0.99125231,  1.00616875,  1.02108519,  1.03600163,  1.05091808,\n",
       "         1.06583452,  1.08075096,  1.0956674 ,  1.11058385,  1.12550029,\n",
       "         1.14041673,  1.15533317,  1.17024962,  1.18516606,  1.2000825 ,\n",
       "         1.21499894,  1.22991539,  1.24483183,  1.25974827,  1.27466471,\n",
       "         1.28958116,  1.3044976 ,  1.31941404,  1.33433048,  1.34924693,\n",
       "         1.36416337]),\n",
       " <a list of 50 Patch objects>)"
      ]
     },
     "execution_count": 49,
     "metadata": {},
     "output_type": "execute_result"
    },
    {
     "data": {
      "image/png": "[encoded data removed]",
      "text/plain": [
       "<matplotlib.figure.Figure at 0x112b9db10>"
      ]
     },
     "metadata": {},
     "output_type": "display_data"
    }
   ],
   "source": [
    "obs_dist1 = stats.norm(loc=1,scale=.1)\n",
    "\n",
    "obs_dist1=obs_dist1.rvs(5000)\n",
    "\n",
    "fig = plt.figure(figsize=(12,8))\n",
    "ax = fig.add_subplot(111)\n",
    "ax.hist(obs_dist1, bins=50, normed=True, color='red')\n"
   ]
  },
  {
   "cell_type": "code",
   "execution_count": 56,
   "metadata": {
    "collapsed": false
   },
   "outputs": [
    {
     "data": {
      "image/png": "[encoded data removed]",
      "text/plain": [
       "<matplotlib.figure.Figure at 0x11377db50>"
      ]
     },
     "metadata": {},
     "output_type": "display_data"
    }
   ],
   "source": [
    "from scipy.stats import lognorm\n",
    "import matplotlib.pyplot as plt\n",
    "fig, ax = plt.subplots(1, 1)\n",
    "s = 0.953682269606\n",
    "mean, var, skew, kurt = lognorm.stats(s, moments='mvsk')\n",
    "x = np.linspace(lognorm.ppf(0.01, s),\n",
    "              lognorm.ppf(0.99, s), 100)\n",
    "ax.plot(x, lognorm.pdf(x, s),\n",
    "         'r-', lw=5, alpha=0.6, label='lognorm pdf')\n",
    "rv = lognorm(s)\n",
    "ax.plot(x, rv.pdf(x), 'k-', lw=2, label='frozen pdf')\n",
    "vals = lognorm.ppf([0.001, 0.5, 0.999], s)\n",
    "np.allclose([0.001, 0.5, 0.999], lognorm.cdf(vals, s))\n",
    "r = lognorm.rvs(s, size=5000)\n",
    "ax.hist(r,  bins=100,normed=True, histtype='stepfilled', alpha=0.2)\n",
    "ax.legend(loc='best', frameon=False)\n",
    "plt.show()"
   ]
  },
  {
   "cell_type": "code",
   "execution_count": 95,
   "metadata": {
    "collapsed": false
   },
   "outputs": [
    {
     "data": {
      "image/png": "[encoded data removed]",
      "text/plain": [
       "<matplotlib.figure.Figure at 0x11b26a490>"
      ]
     },
     "metadata": {},
     "output_type": "display_data"
    },
    {
     "data": {
      "text/plain": [
       "27.738373614309079"
      ]
     },
     "execution_count": 95,
     "metadata": {},
     "output_type": "execute_result"
    }
   ],
   "source": [
    "fig, ax = plt.subplots(1, 1)\n",
    "r = lognorm.rvs(s, loc=0.1,scale=18, size=410)\n",
    "ax.hist(r,  bins=100,normed=True, histtype='stepfilled', alpha=0.2)\n",
    "ax.legend(loc='best', frameon=False)\n",
    "plt.show()\n",
    "r.mean()"
   ]
  },
  {
   "cell_type": "code",
   "execution_count": 93,
   "metadata": {
    "collapsed": false
   },
   "outputs": [
    {
     "name": "stdout",
     "output_type": "stream",
     "text": [
      "29.5535219075\n",
      "474.469796961\n",
      "39.6328129921\n",
      "12116.9439821\n"
     ]
    }
   ],
   "source": [
    "print r.mean()\n",
    "print r.max()\n",
    "print r.std()\n",
    "print r.sum()"
   ]
  },
  {
   "cell_type": "code",
   "execution_count": 97,
   "metadata": {
    "collapsed": false
   },
   "outputs": [
    {
     "data": {
      "image/png": "[encoded data removed]",
      "text/plain": [
       "<matplotlib.figure.Figure at 0x115a1f410>"
      ]
     },
     "metadata": {},
     "output_type": "display_data"
    },
    {
     "name": "stdout",
     "output_type": "stream",
     "text": [
      "32.8688422614\n",
      "145.857258421\n",
      "22.1552786202\n",
      "2498.03201187\n"
     ]
    }
   ],
   "source": [
    "fig, ax = plt.subplots(1, 1)\n",
    "r = lognorm.rvs(s, loc=7,scale=20, size=76)\n",
    "ax.hist(r,  bins=100,normed=True, histtype='stepfilled', alpha=0.2)\n",
    "ax.legend(loc='best', frameon=False)\n",
    "plt.show()\n",
    "print r.mean()\n",
    "print r.max()\n",
    "print r.std()\n",
    "print r.sum()"
   ]
  },
  {
   "cell_type": "code",
   "execution_count": 166,
   "metadata": {
    "collapsed": false
   },
   "outputs": [
    {
     "data": {
      "image/png": "[encoded data removed]",
      "text/plain": [
       "<matplotlib.figure.Figure at 0x11e378450>"
      ]
     },
     "metadata": {},
     "output_type": "display_data"
    },
    {
     "name": "stdout",
     "output_type": "stream",
     "text": [
      "35.0856476883\n",
      "469.003128988\n",
      "44.5598707542\n",
      "10981.8077265\n"
     ]
    }
   ],
   "source": [
    "#payment\tavg\tmax\tmin\tstd\tamount\n",
    "#313\t32.21\t199.00\t3.0\t25.875962\t10081.73\t\n",
    "fig, ax = plt.subplots(1, 1)\n",
    "r = lognorm.rvs(s, loc=3,scale=20, size=313)\n",
    "ax.hist(r,  bins=50,normed=True, histtype='stepfilled', alpha=0.2)\n",
    "ax.legend(loc='best', frameon=False)\n",
    "plt.show()\n",
    "print r.mean()\n",
    "print r.max()\n",
    "print r.std()\n",
    "print r.sum()"
   ]
  },
  {
   "cell_type": "code",
   "execution_count": 116,
   "metadata": {
    "collapsed": false
   },
   "outputs": [
    {
     "data": {
      "image/png": "[encoded data removed]",
      "text/plain": [
       "<matplotlib.figure.Figure at 0x11c073bd0>"
      ]
     },
     "metadata": {},
     "output_type": "display_data"
    },
    {
     "name": "stdout",
     "output_type": "stream",
     "text": [
      "39.2912661949\n",
      "611.351103218\n",
      "51.5072279529\n",
      "12298.166319\n"
     ]
    }
   ],
   "source": [
    "#payment\tavg\tmax\tmin\tstd\tamount\n",
    "#313\t32.21\t199.00\t3.0\t25.875962\t10081.73\t\n",
    "fig, ax = plt.subplots(1, 1)\n",
    "r = lognorm.rvs(s, loc=3,scale=20, size=313)\n",
    "ax.hist(r,  bins=100,normed=True, histtype='stepfilled', alpha=0.2)\n",
    "ax.legend(loc='best', frameon=False)\n",
    "plt.show()\n",
    "print r.mean()\n",
    "print r.max()\n",
    "print r.std()\n",
    "print r.sum()"
   ]
  },
  {
   "cell_type": "code",
   "execution_count": 123,
   "metadata": {
    "collapsed": false
   },
   "outputs": [
    {
     "data": {
      "text/html": [
       "<img src=\"./mu_sigma.png\"/>"
      ],
      "text/plain": [
       "<IPython.core.display.Image object>"
      ]
     },
     "execution_count": 123,
     "metadata": {},
     "output_type": "execute_result"
    }
   ],
   "source": [
    "from IPython.display import Image\n",
    "Image(url='./mu_sigma.png')"
   ]
  },
  {
   "cell_type": "code",
   "execution_count": 157,
   "metadata": {
    "collapsed": false
   },
   "outputs": [
    {
     "name": "stdout",
     "output_type": "stream",
     "text": [
      "-331.310427749 0.705668335305 669.565409425\n"
     ]
    }
   ],
   "source": [
    "import math\n",
    "avg=32.21\n",
    "std=25.875962\n",
    "var=std*std\n",
    "sigma2=np.log(1+(var/(avg*avg)))\n",
    "sigma =np.sqrt(sigma2)\n",
    "mu = np.log(avg)-(.5*var) \n",
    "print mu, sigma, var"
   ]
  },
  {
   "cell_type": "code",
   "execution_count": 156,
   "metadata": {
    "collapsed": false
   },
   "outputs": [
    {
     "name": "stdout",
     "output_type": "stream",
     "text": [
      "-331.310427749 0.705668335305\n"
     ]
    }
   ],
   "source": [
    "\n",
    "emu=np.exp(mu)\n",
    "esigma=np.exp(sigma)"
   ]
  },
  {
   "cell_type": "code",
   "execution_count": 162,
   "metadata": {
    "collapsed": false
   },
   "outputs": [
    {
     "data": {
      "image/png": "[encoded data removed]",
      "text/plain": [
       "<matplotlib.figure.Figure at 0x11f1c0450>"
      ]
     },
     "metadata": {},
     "output_type": "display_data"
    },
    {
     "name": "stdout",
     "output_type": "stream",
     "text": [
      "37.9564228975 364.527601283 2.08767031699 42.9880487573 11880.3603669\n"
     ]
    }
   ],
   "source": [
    "#payment\tavg\tmax\tmin\tstd\tamount\n",
    "#313\t32.21\t199.00\t3.0\t25.875962\t10081.73\t\n",
    "fig, ax = plt.subplots(1, 1)\n",
    "r = lognorm.rvs(s, loc=4,scale=std, size=313)\n",
    "ax.hist(r,  bins=100,normed=True, histtype='stepfilled', alpha=0.5)\n",
    "ax.legend(loc='best', frameon=False)\n",
    "plt.show()\n",
    "print r.mean(),r.max(),r.min(), r.std(), r.sum()\n"
   ]
  },
  {
   "cell_type": "code",
   "execution_count": null,
   "metadata": {
    "collapsed": true
   },
   "outputs": [],
   "source": []
  }
 ],
 "metadata": {
  "kernelspec": {
   "display_name": "Python 2",
   "language": "python",
   "name": "python2"
  },
  "language_info": {
   "codemirror_mode": {
    "name": "ipython",
    "version": 2
   },
   "file_extension": ".py",
   "mimetype": "text/x-python",
   "name": "python",
   "nbconvert_exporter": "python",
   "pygments_lexer": "ipython2",
   "version": "2.7.10"
  }
 },
 "nbformat": 4,
 "nbformat_minor": 0
}

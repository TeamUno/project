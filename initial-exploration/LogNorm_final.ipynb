{
 "cells": [
  {
   "cell_type": "code",
   "execution_count": 2,
   "metadata": {
    "collapsed": true
   },
   "outputs": [],
   "source": [
    "%matplotlib inline\n",
    "import matplotlib.pyplot as plt\n",
    "import pandas as pd\n",
    "import numpy as np\n",
    "import seaborn as sns\n",
    "from pandasql import sqldf\n",
    "from scipy.stats import lognorm\n",
    "\n",
    "pysqldf = lambda q: sqldf(q, globals())"
   ]
  },
  {
   "cell_type": "code",
   "execution_count": 3,
   "metadata": {
    "collapsed": true
   },
   "outputs": [],
   "source": [
    "folder = \"../dataset/\"\n",
    "#basic_stats\n",
    "names=['zipcode','date','category','merchant','card', 'payment', 'avg', 'max', 'min', 'std']\n",
    "basic_stats = pd.io.parsers.read_table(folder + 'basic_stats000',sep='\\t', names=names, parse_dates=[\"date\"])\n",
    "\n",
    "#customer_zipcodes\n",
    "names=['zipcode','date','category','zipcodecustomer','merchant','card', 'payment', 'avg', 'max', 'min', 'std']\n",
    "customer_zipcodes = pd.io.parsers.read_table(folder + 'customer_zipcodes000',sep='\\t', names=names, parse_dates=[\"date\"])\n",
    "\n",
    "#age distribution\n",
    "names=['zipcode','date','category','ageinterval','merchant','card', 'payment', 'avg', 'max', 'min', 'std']\n",
    "age_distribution = pd.io.parsers.read_table(folder + 'age_distribution000',sep='\\t', names=names, parse_dates=[\"date\"])\n",
    "\n",
    "#gender distribution\n",
    "names=['zipcode','date','category','gender','merchant','card', 'payment', 'avg', 'max', 'min', 'std']\n",
    "gender_distribution = pd.io.parsers.read_table(folder + 'gender_distribution000',sep='\\t', names=names, parse_dates=[\"date\"])\n",
    "\n",
    "#payment_distribution \n",
    "names=['zipcode','date','category','paymentinterval','merchant','card', 'payment', 'avg', 'max', 'min', 'std']\n",
    "payment_distribution = pd.io.parsers.read_table(folder + 'payment_distribution000',sep='\\t', names=names, parse_dates=[\"date\"])\n",
    "\n",
    "#demographic distribution\n",
    "names=['zipcode','date','category','ageinterval','gender','merchant','card', 'payment', 'avg', 'max', 'min', 'std']\n",
    "demographic_distribution = pd.io.parsers.read_table(folder + 'demographic_distribution000',sep='\\t', names=names, parse_dates=[\"date\"])\n",
    "\n",
    "#expenditure-time_curve\n",
    "names=['zipcode','date','day_of_week','hour','merchant','card', 'payment', 'avg', 'max', 'min', 'std']\n",
    "expenditure_time_curve = pd.io.parsers.read_table(folder + 'expenditure-time_curve000',sep='\\t', names=names, parse_dates=[\"date\"])\n",
    "\n",
    "\n",
    "basic_stats[\"amount\"] = basic_stats[\"payment\"]* basic_stats[\"avg\"]\n",
    "basic_stats[\"avgpaybymerch\"] = basic_stats[\"payment\"]/ basic_stats[\"merchant\"]\n",
    "basic_stats[\"amountbymerch\"] = basic_stats[\"amount\"]/ basic_stats[\"merchant\"]\n",
    "basic_stats[\"avgReppays\"] = basic_stats[\"payment\"] / basic_stats[\"card\"]\n",
    "basic_stats[\"weekday\"] = basic_stats[\"date\"].map(lambda d: (d.weekday()))\n",
    "basic_stats[\"day\"] = basic_stats[\"date\"].map(lambda d: ('{0:%d}-{0:%a}'.format(d)))\n",
    "\n",
    "customer_zipcodes[\"amount\"] = customer_zipcodes[\"payment\"]* customer_zipcodes[\"avg\"]\n",
    "customer_zipcodes[\"avgpaybymerch\"] = customer_zipcodes[\"payment\"]/ customer_zipcodes[\"merchant\"]\n",
    "customer_zipcodes[\"amountbymerch\"] = customer_zipcodes[\"amount\"]/ customer_zipcodes[\"merchant\"]\n",
    "customer_zipcodes[\"avgReppays\"] = customer_zipcodes[\"payment\"] / customer_zipcodes[\"card\"]\n",
    "customer_zipcodes[\"weekday\"] = customer_zipcodes[\"date\"].map(lambda d: (d.weekday()))\n",
    "customer_zipcodes[\"day\"] = customer_zipcodes[\"date\"].map(lambda d: ('{0:%d}-{0:%a}'.format(d)))\n",
    "\n",
    "age_distribution[\"amount\"] = age_distribution[\"payment\"]* age_distribution[\"avg\"]\n",
    "gender_distribution[\"amount\"] = gender_distribution[\"payment\"]* payment_distribution[\"avg\"]\n",
    "payment_distribution[\"amount\"] = payment_distribution[\"payment\"]* payment_distribution[\"avg\"]\n",
    "demographic_distribution[\"amount\"] = demographic_distribution[\"payment\"]* demographic_distribution[\"avg\"]\n",
    "expenditure_time_curve[\"amount\"] = expenditure_time_curve[\"payment\"]* expenditure_time_curve[\"avg\"]"
   ]
  },
  {
   "cell_type": "code",
   "execution_count": 48,
   "metadata": {
    "collapsed": false
   },
   "outputs": [
    {
     "data": {
      "text/plain": [
       "zipcode                         8001\n",
       "date             2014-07-01 00:00:00\n",
       "category                     es_food\n",
       "merchant                          22\n",
       "card                              62\n",
       "payment                           66\n",
       "avg                            13.58\n",
       "max                            40.43\n",
       "min                              1.1\n",
       "std                         8.146661\n",
       "amount                        896.28\n",
       "avgpaybymerch                      3\n",
       "amountbymerch                  40.74\n",
       "avgReppays                  1.064516\n",
       "weekday                            1\n",
       "day                           01-Tue\n",
       "Name: 3, dtype: object"
      ]
     },
     "execution_count": 48,
     "metadata": {},
     "output_type": "execute_result"
    }
   ],
   "source": [
    "basic_stats.ix[3]"
   ]
  },
  {
   "cell_type": "code",
   "execution_count": 9,
   "metadata": {
    "collapsed": false
   },
   "outputs": [
    {
     "name": "stdout",
     "output_type": "stream",
     "text": [
      "3.04066125978 0.942365283941 1606.21529223\n"
     ]
    },
    {
     "data": {
      "image/png": "[encoded data removed]",
      "text/plain": [
       "<matplotlib.figure.Figure at 0x104413a90>"
      ]
     },
     "metadata": {},
     "output_type": "display_data"
    },
    {
     "name": "stdout",
     "output_type": "stream",
     "text": [
      "33.9211620329 367.409142816 0.882230937959 39.529255633 22557.5727519\n",
      "0.411162032935 67.1491428157 -0.117769062041 273.422751902\n",
      "99.9%:  (0.9415602890249789, 464.76849314886289)\n"
     ]
    }
   ],
   "source": [
    "#payment\tavg\tmax\tmin\tstd\tamount\n",
    "#313\t32.21\t199.00\t3.0\t25.875962\t10081.73\t\n",
    "row=425\n",
    "\n",
    "avg=basic_stats[\"avg\"][row]\n",
    "std=basic_stats[\"std\"][row]\n",
    "num=basic_stats[\"payment\"][row]\n",
    "\n",
    "var=std*std\n",
    "sigma2=np.log(1+(var/(avg*avg)))\n",
    "sigma =np.sqrt(sigma2)\n",
    "mu = np.log(avg)-(.5*sigma) \n",
    "print mu, sigma, var\n",
    "\n",
    "fig, ax = plt.subplots(1, 1)\n",
    "r = lognorm.rvs(sigma, loc=0,scale=np.exp(mu), size=num)\n",
    "ax.hist(r,  bins=100,normed=True, histtype='stepfilled', alpha=0.4)\n",
    "ax.legend(loc='best', frameon=False)\n",
    "plt.show()\n",
    "print r.mean(),r.max(), r.min(), r.std(), r.sum()\n",
    "print r.mean()-avg,r.max()-basic_stats[\"max\"][row], r.min()-basic_stats[\"min\"][row], r.sum()-basic_stats[\"amount\"][row]\n",
    "\n",
    "\n",
    "shape = sigma # Scipy's shape parameter\n",
    "scale = np.exp(mu) # Scipy's scale parameter\n",
    "\n",
    "print \"99.9%: \", lognorm.interval(0.999, shape, loc=0, scale=scale)"
   ]
  },
  {
   "cell_type": "code",
   "execution_count": 12,
   "metadata": {
    "collapsed": true
   },
   "outputs": [],
   "source": [
    "def LogNormbyAvgStdNum(row):\n",
    "    \n",
    "    avg=row[\"avg\"]\n",
    "    std=row[\"std\"]\n",
    "    num=row[\"payment\"]\n",
    "\n",
    "    var=std*std\n",
    "    sigma2=np.log(1+(var/(avg*avg)))\n",
    "    sigma =np.sqrt(sigma2)\n",
    "    mu = np.log(avg)-(.5*sigma)\n",
    "    \n",
    "    r = lognorm.rvs(sigma, loc=0,scale=np.exp(mu), size=num)\n",
    "    return r\n",
    "    "
   ]
  },
  {
   "cell_type": "code",
   "execution_count": 52,
   "metadata": {
    "collapsed": false
   },
   "outputs": [
    {
     "data": {
      "text/plain": [
       "array([  40.90198491,   15.10042565,   49.55606669,   30.96754611,\n",
       "         10.80776482,   20.71998047,   12.1887295 ,    9.04185136,\n",
       "         11.09292226,   44.68578013,   11.00767928,   19.8800187 ,\n",
       "          8.83740323,    6.93203117,   57.40595332,   33.22342439,\n",
       "         24.93387136,   16.0925656 ,   30.28138883,   14.52572395,\n",
       "         36.9707531 ,    3.23189925,   26.88835145,   14.42835183,\n",
       "          9.99963301,   20.65081105,   14.91500503,    9.80392887,\n",
       "         66.30510616,   39.1711807 ,    5.19712557,   37.85492473,\n",
       "         14.23151016,   32.17960408,   16.56382626,   20.06622706,\n",
       "         64.87505872,   21.17560253,   34.72650793,   35.2396231 ,\n",
       "         37.3232008 ,   12.64128749,   56.91378205,   48.55481935,\n",
       "         59.3475913 ,   37.77723077,   24.69509946,   27.74103753,\n",
       "          8.70135433,   68.12430289,   38.70208362,    8.58235329,\n",
       "          9.15368386,   43.821896  ,   18.87240676,   25.13259618,\n",
       "         35.24943525,   10.37563171,   24.4663001 ,   29.65890447,\n",
       "         19.92781976,   11.43022656,   24.84295898,   24.88170317,\n",
       "         26.51045083,   42.41944942,   12.45752217,   37.68037852,\n",
       "         15.05788213,   31.43905687,    5.19730742,   21.3890296 ,\n",
       "         13.39272331,   25.26981976,   24.62735584,   15.28473009,\n",
       "         69.91846142,   26.63011882,   41.33030447,   20.98114077,\n",
       "         31.33299501,   17.9736838 ,   17.18150822,   25.92080037,\n",
       "         17.82110575,   12.86746923,   44.61014463,   29.39995277,\n",
       "         16.61514528,   31.63408142,   14.22159007,   18.34384285,\n",
       "          6.15075187,   13.91723806,   49.05261566,   64.23339627,\n",
       "         26.6536335 ,   29.65222761,   19.57628067,    4.65157742,\n",
       "         52.97998841,   11.47566465,   25.26751142,   22.57995095,\n",
       "         39.56585683,    9.76185441,   25.84038169,   36.79882521,\n",
       "        109.42684724,    4.34184383,   33.75163135,   17.03255323,\n",
       "         73.75570987,   16.66585826,   13.74322571,   20.60626793,\n",
       "         15.43565217,   62.52952642,   29.88162423,   91.77174763,\n",
       "         22.60151952,   12.35834737,   13.70549096,   17.60621351,\n",
       "         10.5783635 ,   33.65523823,    5.16947845,    8.147793  ,\n",
       "          6.23522721,   21.63562585,   16.57219037,   28.99692809,\n",
       "          9.08587038,   17.91165648,    9.83717547,   18.68019417,\n",
       "         16.55530108,   54.23721352,   18.70948286,   17.37225381,\n",
       "         18.00854769,   15.18079197,   19.82975449,   11.48511077,\n",
       "         51.59477348,   58.04577613,    8.77317416,   18.73879405,\n",
       "         12.54801173,   12.69647047,   30.2291858 ,   17.66294417,\n",
       "         22.87708127,   24.88772149,   37.83351842,   18.39910192,\n",
       "         28.35162826,   31.33379984,   21.36307749,   32.94461961,\n",
       "         10.88930389,   43.97036948,   42.74525184,   82.75057458,\n",
       "         21.34242021,   29.62046804,    4.41166243,   13.87832614,\n",
       "         10.16376296,   22.13589827,    8.5950357 ,   24.24499984,\n",
       "         17.96871843,   33.92524658,   38.14237788,    9.3832549 ,\n",
       "         30.88541602,    4.94255574,   38.70863567,   54.48267248,\n",
       "         38.94677335,   10.86900571,   28.75190996,   28.3924715 ,\n",
       "         22.59764458,   15.16528068,   45.56751895,    5.24828578,\n",
       "          7.61083662,   53.3011628 ,   90.90511561,   17.65170053,\n",
       "         36.60054005,   39.63517111,   33.38027487,   28.62758156,\n",
       "          8.40255354,   70.15483819,   15.80778297,   22.04617762,\n",
       "         23.53285989,    9.47934847,   34.0059785 ,   64.56568455,\n",
       "         47.90557519,   34.87232652,    7.77650138,   25.9076589 ,\n",
       "         21.93761154,   27.42715646,   30.38382686,   12.31090502,\n",
       "          7.95443732,  191.70592781,   35.90466692,   27.02156776,\n",
       "         11.10765942,   13.9476998 ,   12.21511653,   27.87901293,\n",
       "         21.26968065,   25.04801232,   12.92107743,   40.52309772,\n",
       "         13.57982662,   19.66078242,    6.78738888,   39.95831327,\n",
       "         56.04575711,   19.1327683 ,   10.25615008,    9.77532226,\n",
       "         35.16841772,    7.87711889,    6.39618855,   31.08629012,\n",
       "         26.13681692,   27.95306266,   25.96682227,    9.52105949,\n",
       "          6.44627249,   55.69042732,   10.41382077,   22.69298952,\n",
       "         20.54373873,    7.88928287,   13.76156626,   11.44996056,\n",
       "         26.48385528,   18.4980175 ,   48.78751677,   55.78888028,\n",
       "         27.5686008 ,    8.74015932,   47.58842803,    3.98397648,\n",
       "         39.14470072,   29.08866169,   12.52292314,   13.51002952,\n",
       "         50.78564861,   22.79703614,   87.01480372,   67.55426763,\n",
       "         11.24478065,   44.48667008,   41.93574957,   81.76489505,\n",
       "          8.72241437,    9.89629962,   23.11144746,   21.9045589 ,\n",
       "         22.61160425,   31.43203592,   22.69514582,   40.78154358,\n",
       "         10.18204097,    7.93653036,   18.41709565,   14.22800828,\n",
       "         26.89687654,   16.37038482,   36.08893187,   27.73265221,\n",
       "         20.3943916 ,   44.88554396,   35.27075617,   30.59896876,\n",
       "         25.68376451,   21.18216022,   35.08444786,   45.4676985 ,\n",
       "         16.5757399 ,   55.28002599,   50.38243547,   14.83416687,\n",
       "         34.26179464,    5.3285368 ,   10.70624984,   17.73418158,\n",
       "         18.88599791,   64.62481557,   11.37666977,   20.8416226 ,\n",
       "         30.53585279,   15.63065296,   32.3194156 ,   94.63866963,\n",
       "         53.92961176,   31.0399905 ,   11.21314887,   18.44710622,\n",
       "         25.22441669])"
      ]
     },
     "execution_count": 52,
     "metadata": {},
     "output_type": "execute_result"
    }
   ],
   "source": [
    "LogNormbyAvgStdNum(basic_stats.ix[2])"
   ]
  },
  {
   "cell_type": "code",
   "execution_count": 53,
   "metadata": {
    "collapsed": false
   },
   "outputs": [
    {
     "data": {
      "image/png": "[encoded data removed]",
      "text/plain": [
       "<matplotlib.figure.Figure at 0x10ae34b90>"
      ]
     },
     "metadata": {},
     "output_type": "display_data"
    }
   ],
   "source": [
    "row=323\n",
    "\n",
    "fig, ax = plt.subplots(1, 1)\n",
    "ax.hist(LogNormbyAvgStdNum(basic_stats.ix[323]),  bins=100,normed=True, histtype='stepfilled', alpha=0.2)\n",
    "ax.legend(loc='best', frameon=False)\n",
    "plt.show()"
   ]
  },
  {
   "cell_type": "code",
   "execution_count": null,
   "metadata": {
    "collapsed": false
   },
   "outputs": [],
   "source": [
    "#basic_stats[\"distribution\"] = basic_stats.apply(func = LogNormbyAvgStdNum, axis=1) don't work\n",
    "basic_stats[\"distribution\"] = \"\"\n",
    "for i in basic_stats.index:\n",
    "    basic_stats[\"distribution\"][i] = LogNormbyAvgStdNum(basic_stats.ix[i])"
   ]
  },
  {
   "cell_type": "code",
   "execution_count": 10,
   "metadata": {
    "collapsed": true
   },
   "outputs": [],
   "source": [
    "cut100basic_stats = basic_stats[:100]"
   ]
  },
  {
   "cell_type": "code",
   "execution_count": 13,
   "metadata": {
    "collapsed": false
   },
   "outputs": [
    {
     "name": "stderr",
     "output_type": "stream",
     "text": [
      "/Users/x/anaconda/lib/python2.7/site-packages/IPython/kernel/__main__.py:1: SettingWithCopyWarning: \n",
      "A value is trying to be set on a copy of a slice from a DataFrame.\n",
      "Try using .loc[row_indexer,col_indexer] = value instead\n",
      "\n",
      "See the the caveats in the documentation: http://pandas.pydata.org/pandas-docs/stable/indexing.html#indexing-view-versus-copy\n",
      "  if __name__ == '__main__':\n",
      "/Users/x/anaconda/lib/python2.7/site-packages/IPython/kernel/__main__.py:3: SettingWithCopyWarning: \n",
      "A value is trying to be set on a copy of a slice from a DataFrame\n",
      "\n",
      "See the the caveats in the documentation: http://pandas.pydata.org/pandas-docs/stable/indexing.html#indexing-view-versus-copy\n",
      "  app.launch_new_instance()\n",
      "/Users/x/anaconda/lib/python2.7/site-packages/IPython/core/interactiveshell.py:3035: SettingWithCopyWarning: \n",
      "A value is trying to be set on a copy of a slice from a DataFrame\n",
      "\n",
      "See the the caveats in the documentation: http://pandas.pydata.org/pandas-docs/stable/indexing.html#indexing-view-versus-copy\n",
      "  exec(code_obj, self.user_global_ns, self.user_ns)\n"
     ]
    }
   ],
   "source": [
    "cut100basic_stats[\"distribution\"] = \"\"\n",
    "for i in cut100basic_stats.index:\n",
    "    cut100basic_stats[\"distribution\"][i] = LogNormbyAvgStdNum(cut100basic_stats.ix[i])"
   ]
  },
  {
   "cell_type": "code",
   "execution_count": 16,
   "metadata": {
    "collapsed": false
   },
   "outputs": [
    {
     "data": {
      "image/png": "[encoded data removed]",
      "text/plain": [
       "<matplotlib.figure.Figure at 0x10b23b050>"
      ]
     },
     "metadata": {},
     "output_type": "display_data"
    }
   ],
   "source": [
    "\n",
    "fig, ax = plt.subplots(1, 1)\n",
    "ax.hist(cut100basic_stats[\"distribution\"],  bins=100,normed=True, histtype='stepfilled', alpha=0.2)\n",
    "ax.legend(loc='best', frameon=False)\n",
    "plt.show()"
   ]
  },
  {
   "cell_type": "code",
   "execution_count": null,
   "metadata": {
    "collapsed": true
   },
   "outputs": [],
   "source": []
  }
 ],
 "metadata": {
  "kernelspec": {
   "display_name": "Python 2",
   "language": "python",
   "name": "python2"
  },
  "language_info": {
   "codemirror_mode": {
    "name": "ipython",
    "version": 2
   },
   "file_extension": ".py",
   "mimetype": "text/x-python",
   "name": "python",
   "nbconvert_exporter": "python",
   "pygments_lexer": "ipython2",
   "version": "2.7.10"
  }
 },
 "nbformat": 4,
 "nbformat_minor": 0
}

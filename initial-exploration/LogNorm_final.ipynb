{
 "cells": [
  {
   "cell_type": "code",
   "execution_count": 45,
   "metadata": {
    "collapsed": true
   },
   "outputs": [],
   "source": [
    "%matplotlib inline\n",
    "import matplotlib.pyplot as plt\n",
    "import pandas as pd\n",
    "import numpy as np\n",
    "import seaborn as sns\n",
    "from pandasql import sqldf\n",
    "from scipy.stats import lognorm\n",
    "\n",
    "pysqldf = lambda q: sqldf(q, globals())"
   ]
  },
  {
   "cell_type": "code",
   "execution_count": 47,
   "metadata": {
    "collapsed": true
   },
   "outputs": [],
   "source": [
    "folder = \"../dataset/\"\n",
    "#basic_stats\n",
    "names=['zipcode','date','category','merchant','card', 'payment', 'avg', 'max', 'min', 'std']\n",
    "basic_stats = pd.io.parsers.read_table(folder + 'basic_stats000',sep='\\t', names=names, parse_dates=[\"date\"])\n",
    "\n",
    "#customer_zipcodes\n",
    "names=['zipcode','date','category','zipcodecustomer','merchant','card', 'payment', 'avg', 'max', 'min', 'std']\n",
    "customer_zipcodes = pd.io.parsers.read_table(folder + 'customer_zipcodes000',sep='\\t', names=names, parse_dates=[\"date\"])\n",
    "\n",
    "#age distribution\n",
    "names=['zipcode','date','category','ageinterval','merchant','card', 'payment', 'avg', 'max', 'min', 'std']\n",
    "age_distribution = pd.io.parsers.read_table(folder + 'age_distribution000',sep='\\t', names=names, parse_dates=[\"date\"])\n",
    "\n",
    "#gender distribution\n",
    "names=['zipcode','date','category','gender','merchant','card', 'payment', 'avg', 'max', 'min', 'std']\n",
    "gender_distribution = pd.io.parsers.read_table(folder + 'gender_distribution000',sep='\\t', names=names, parse_dates=[\"date\"])\n",
    "\n",
    "#payment_distribution \n",
    "names=['zipcode','date','category','paymentinterval','merchant','card', 'payment', 'avg', 'max', 'min', 'std']\n",
    "payment_distribution = pd.io.parsers.read_table(folder + 'payment_distribution000',sep='\\t', names=names, parse_dates=[\"date\"])\n",
    "\n",
    "#demographic distribution\n",
    "names=['zipcode','date','category','ageinterval','gender','merchant','card', 'payment', 'avg', 'max', 'min', 'std']\n",
    "demographic_distribution = pd.io.parsers.read_table(folder + 'demographic_distribution000',sep='\\t', names=names, parse_dates=[\"date\"])\n",
    "\n",
    "#expenditure-time_curve\n",
    "names=['zipcode','date','day_of_week','hour','merchant','card', 'payment', 'avg', 'max', 'min', 'std']\n",
    "expenditure_time_curve = pd.io.parsers.read_table(folder + 'expenditure-time_curve000',sep='\\t', names=names, parse_dates=[\"date\"])\n",
    "\n",
    "\n",
    "basic_stats[\"amount\"] = basic_stats[\"payment\"]* basic_stats[\"avg\"]\n",
    "basic_stats[\"avgpaybymerch\"] = basic_stats[\"payment\"]/ basic_stats[\"merchant\"]\n",
    "basic_stats[\"amountbymerch\"] = basic_stats[\"amount\"]/ basic_stats[\"merchant\"]\n",
    "basic_stats[\"avgReppays\"] = basic_stats[\"payment\"] / basic_stats[\"card\"]\n",
    "basic_stats[\"weekday\"] = basic_stats[\"date\"].map(lambda d: (d.weekday()))\n",
    "basic_stats[\"day\"] = basic_stats[\"date\"].map(lambda d: ('{0:%d}-{0:%a}'.format(d)))\n",
    "\n",
    "customer_zipcodes[\"amount\"] = customer_zipcodes[\"payment\"]* customer_zipcodes[\"avg\"]\n",
    "customer_zipcodes[\"avgpaybymerch\"] = customer_zipcodes[\"payment\"]/ customer_zipcodes[\"merchant\"]\n",
    "customer_zipcodes[\"amountbymerch\"] = customer_zipcodes[\"amount\"]/ customer_zipcodes[\"merchant\"]\n",
    "customer_zipcodes[\"avgReppays\"] = customer_zipcodes[\"payment\"] / customer_zipcodes[\"card\"]\n",
    "customer_zipcodes[\"weekday\"] = customer_zipcodes[\"date\"].map(lambda d: (d.weekday()))\n",
    "customer_zipcodes[\"day\"] = customer_zipcodes[\"date\"].map(lambda d: ('{0:%d}-{0:%a}'.format(d)))\n",
    "\n",
    "age_distribution[\"amount\"] = age_distribution[\"payment\"]* age_distribution[\"avg\"]\n",
    "gender_distribution[\"amount\"] = gender_distribution[\"payment\"]* payment_distribution[\"avg\"]\n",
    "payment_distribution[\"amount\"] = payment_distribution[\"payment\"]* payment_distribution[\"avg\"]\n",
    "demographic_distribution[\"amount\"] = demographic_distribution[\"payment\"]* demographic_distribution[\"avg\"]\n",
    "expenditure_time_curve[\"amount\"] = expenditure_time_curve[\"payment\"]* expenditure_time_curve[\"avg\"]"
   ]
  },
  {
   "cell_type": "code",
   "execution_count": 48,
   "metadata": {
    "collapsed": false
   },
   "outputs": [
    {
     "data": {
      "text/html": [
       "<div>\n",
       "<table border=\"1\" class=\"dataframe\">\n",
       "  <thead>\n",
       "    <tr style=\"text-align: right;\">\n",
       "      <th></th>\n",
       "      <th>zipcode</th>\n",
       "      <th>date</th>\n",
       "      <th>category</th>\n",
       "      <th>merchant</th>\n",
       "      <th>card</th>\n",
       "      <th>payment</th>\n",
       "      <th>avg</th>\n",
       "      <th>max</th>\n",
       "      <th>min</th>\n",
       "      <th>std</th>\n",
       "      <th>amount</th>\n",
       "      <th>avgpaybymerch</th>\n",
       "      <th>amountbymerch</th>\n",
       "      <th>avgReppays</th>\n",
       "      <th>weekday</th>\n",
       "      <th>day</th>\n",
       "    </tr>\n",
       "  </thead>\n",
       "  <tbody>\n",
       "    <tr>\n",
       "      <th>0</th>\n",
       "      <td>8001</td>\n",
       "      <td>2014-07-01</td>\n",
       "      <td>es_barsandrestaurants</td>\n",
       "      <td>76</td>\n",
       "      <td>405</td>\n",
       "      <td>410</td>\n",
       "      <td>27.28</td>\n",
       "      <td>600.00</td>\n",
       "      <td>0.1</td>\n",
       "      <td>47.253606</td>\n",
       "      <td>11184.80</td>\n",
       "      <td>5.394737</td>\n",
       "      <td>147.168421</td>\n",
       "      <td>1.012346</td>\n",
       "      <td>1</td>\n",
       "      <td>01-Tue</td>\n",
       "    </tr>\n",
       "    <tr>\n",
       "      <th>1</th>\n",
       "      <td>8001</td>\n",
       "      <td>2014-07-01</td>\n",
       "      <td>es_contents</td>\n",
       "      <td>15</td>\n",
       "      <td>73</td>\n",
       "      <td>76</td>\n",
       "      <td>34.76</td>\n",
       "      <td>189.36</td>\n",
       "      <td>7.0</td>\n",
       "      <td>27.330793</td>\n",
       "      <td>2641.76</td>\n",
       "      <td>5.066667</td>\n",
       "      <td>176.117333</td>\n",
       "      <td>1.041096</td>\n",
       "      <td>1</td>\n",
       "      <td>01-Tue</td>\n",
       "    </tr>\n",
       "    <tr>\n",
       "      <th>2</th>\n",
       "      <td>8001</td>\n",
       "      <td>2014-07-01</td>\n",
       "      <td>es_fashion</td>\n",
       "      <td>56</td>\n",
       "      <td>304</td>\n",
       "      <td>313</td>\n",
       "      <td>32.21</td>\n",
       "      <td>199.00</td>\n",
       "      <td>3.0</td>\n",
       "      <td>25.875962</td>\n",
       "      <td>10081.73</td>\n",
       "      <td>5.589286</td>\n",
       "      <td>180.030893</td>\n",
       "      <td>1.029605</td>\n",
       "      <td>1</td>\n",
       "      <td>01-Tue</td>\n",
       "    </tr>\n",
       "  </tbody>\n",
       "</table>\n",
       "</div>"
      ],
      "text/plain": [
       "   zipcode       date               category  merchant  card  payment    avg  \\\n",
       "0     8001 2014-07-01  es_barsandrestaurants        76   405      410  27.28   \n",
       "1     8001 2014-07-01            es_contents        15    73       76  34.76   \n",
       "2     8001 2014-07-01             es_fashion        56   304      313  32.21   \n",
       "\n",
       "      max  min        std    amount  avgpaybymerch  amountbymerch  avgReppays  \\\n",
       "0  600.00  0.1  47.253606  11184.80       5.394737     147.168421    1.012346   \n",
       "1  189.36  7.0  27.330793   2641.76       5.066667     176.117333    1.041096   \n",
       "2  199.00  3.0  25.875962  10081.73       5.589286     180.030893    1.029605   \n",
       "\n",
       "   weekday     day  \n",
       "0        1  01-Tue  \n",
       "1        1  01-Tue  \n",
       "2        1  01-Tue  "
      ]
     },
     "execution_count": 48,
     "metadata": {},
     "output_type": "execute_result"
    }
   ],
   "source": [
    "basic_stats[:3]"
   ]
  },
  {
   "cell_type": "code",
   "execution_count": 51,
   "metadata": {
    "collapsed": false
   },
   "outputs": [
    {
     "name": "stdout",
     "output_type": "stream",
     "text": [
      "-1113.14548617 1.17745396924 2232.90328\n"
     ]
    },
    {
     "data": {
      "image/png": "[encoded data removed]",
      "text/plain": [
       "<matplotlib.figure.Figure at 0x10ac3b790>"
      ]
     },
     "metadata": {},
     "output_type": "display_data"
    },
    {
     "name": "stdout",
     "output_type": "stream",
     "text": [
      "90.0566371927 1008.25616379 1.98201695016 116.267725767 36923.221249\n"
     ]
    }
   ],
   "source": [
    "#payment\tavg\tmax\tmin\tstd\tamount\n",
    "#313\t32.21\t199.00\t3.0\t25.875962\t10081.73\t\n",
    "\n",
    "avg=27.28\n",
    "std=47.253606\n",
    "numpayment=410\n",
    "\n",
    "var=std*std\n",
    "sigma2=np.log(1+(var/(avg*avg)))\n",
    "sigma =np.sqrt(sigma2)\n",
    "mu = np.log(avg)-(.5*var) \n",
    "print mu, sigma, var\n",
    "\n",
    "fig, ax = plt.subplots(1, 1)\n",
    "r = lognorm.rvs(sigma, loc=0,scale=std, size=numpayment)\n",
    "ax.hist(r,  bins=100,normed=True, histtype='stepfilled', alpha=0.2)\n",
    "ax.legend(loc='best', frameon=False)\n",
    "plt.show()\n",
    "print r.mean(),r.max(), r.min(), r.std(), r.sum()"
   ]
  },
  {
   "cell_type": "code",
   "execution_count": null,
   "metadata": {
    "collapsed": true
   },
   "outputs": [],
   "source": []
  },
  {
   "cell_type": "code",
   "execution_count": null,
   "metadata": {
    "collapsed": true
   },
   "outputs": [],
   "source": []
  }
 ],
 "metadata": {
  "kernelspec": {
   "display_name": "Python 2",
   "language": "python",
   "name": "python2"
  },
  "language_info": {
   "codemirror_mode": {
    "name": "ipython",
    "version": 2
   },
   "file_extension": ".py",
   "mimetype": "text/x-python",
   "name": "python",
   "nbconvert_exporter": "python",
   "pygments_lexer": "ipython2",
   "version": "2.7.10"
  }
 },
 "nbformat": 4,
 "nbformat_minor": 0
}

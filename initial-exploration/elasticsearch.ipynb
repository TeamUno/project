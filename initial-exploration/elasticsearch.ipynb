{
 "cells": [
  {
   "cell_type": "code",
   "execution_count": null,
   "metadata": {
    "collapsed": true
   },
   "outputs": [],
   "source": [
    "import pandas as pd\n",
    "basic_stats = pd.io.parsers.read_table('./Datos/basic_stats000',sep='\\t',names=['zipcode','date','category','merchant','card', 'payment', 'avg', 'max', 'min', 'std'])\n"
   ]
  },
  {
   "cell_type": "code",
   "execution_count": null,
   "metadata": {
    "collapsed": false
   },
   "outputs": [],
   "source": [
    "len(basic_stats)"
   ]
  },
  {
   "cell_type": "code",
   "execution_count": 52,
   "metadata": {
    "collapsed": false
   },
   "outputs": [
    {
     "name": "stderr",
     "output_type": "stream",
     "text": [
      "WARNING:elasticsearch:DELETE /bbva [status:404 request:0.004s]\n"
     ]
    },
    {
     "name": "stdout",
     "output_type": "stream",
     "text": [
      "now indexing ./Datos/basic_stats000...\n",
      "{u'category': u'es_barsandrestaurants', u'merchant': 76, u'min': 0.1, u'max': 600.0, u'zipcode': 8001, u'std': 47.2536063819, u'date': u'2014-07-01', u'avg': 27.28, u'no_index': 1, u'payment': 410, u'card': 405}\n",
      "done in 71.115s\n"
     ]
    }
   ],
   "source": [
    "from elasticsearch import Elasticsearch\n",
    "import pandas as pd\n",
    "from time import time\n",
    "import json\n",
    " \n",
    "root_path=\"./Datos\"\n",
    "raw_data_path=root_path+\"/\"\n",
    "csv_filename=raw_data_path + \"basic_stats000\"\n",
    "col_names =['zipcode','date','category','merchant','card', 'payment', 'avg', 'max', 'min', 'std']\n",
    "\n",
    "\n",
    "index_name=\"bbva\"\n",
    "type_name=\"basic_stats\"\n",
    "\n",
    "t0=time()\n",
    " \n",
    "\n",
    " \n",
    "df=pd.io.parsers.read_table(csv_filename ,sep='\\t',names=col_names)\n",
    "\n",
    "# init ElasticSearch\n",
    "es = Elasticsearch()\n",
    " \n",
    "# init index\n",
    "try :\n",
    "    es.indices.delete(index_name)\n",
    "except :\n",
    "    pass\n",
    " \n",
    "es.indices.create(index=index_name, ignore=400)\n",
    " \n",
    "# start bulk indexing \n",
    "print \"now indexing %s...\"%(csv_filename)\n",
    " \n",
    "df[\"no_index\"] = [x+1 for x in range(len(df))]\n",
    "# Convert into json\n",
    "tmp = df.to_json(orient = \"records\")\n",
    "# Load each record into json format before bulk\n",
    "df_json= json.loads(tmp)\n",
    "print df_json[0]\n",
    "\n",
    "# Bulk index\n",
    "for doc in df_json:\n",
    "    es.index(body=doc, index=index_name, doc_type=type_name, id=doc['no_index'])\n",
    " \n",
    "print \"done in %.3fs\"%(time()-t0)"
   ]
  },
  {
   "cell_type": "code",
   "execution_count": null,
   "metadata": {
    "collapsed": false
   },
   "outputs": [],
   "source": [
    "print csvfile"
   ]
  },
  {
   "cell_type": "code",
   "execution_count": 53,
   "metadata": {
    "collapsed": false
   },
   "outputs": [
    {
     "data": {
      "text/plain": [
       "[{u'avg': 27.28,\n",
       "  u'card': 405,\n",
       "  u'category': u'es_barsandrestaurants',\n",
       "  u'date': u'2014-07-01',\n",
       "  u'max': 600.0,\n",
       "  u'merchant': 76,\n",
       "  u'min': 0.1,\n",
       "  u'no_index': 1,\n",
       "  u'payment': 410,\n",
       "  u'std': 47.2536063819,\n",
       "  u'zipcode': 8001},\n",
       " {u'avg': 34.76,\n",
       "  u'card': 73,\n",
       "  u'category': u'es_contents',\n",
       "  u'date': u'2014-07-01',\n",
       "  u'max': 189.36,\n",
       "  u'merchant': 15,\n",
       "  u'min': 7.0,\n",
       "  u'no_index': 2,\n",
       "  u'payment': 76,\n",
       "  u'std': 27.3307925802,\n",
       "  u'zipcode': 8001}]"
      ]
     },
     "execution_count": 53,
     "metadata": {},
     "output_type": "execute_result"
    }
   ],
   "source": [
    "df_json[:2]"
   ]
  },
  {
   "cell_type": "code",
   "execution_count": null,
   "metadata": {
    "collapsed": false
   },
   "outputs": [],
   "source": [
    "from datetime import datetime\n",
    "from elasticsearch import Elasticsearch\n",
    "\n",
    "# by default we connect to localhost:9200\n",
    "es = Elasticsearch()\n",
    "# create an index in elasticsearch, ignore status code 400 (index already exists)\n",
    "es.indices.create(index='test-index', ignore=400)\n",
    "# datetimes will be serialized\n",
    "es.index(index=\"test-index\", doc_type=\"test-type\", id=42, body={\"any\": \"data\", \"timestamp\": datetime.now()})\n",
    "# but not deserialized\n",
    "\n",
    "es.get(index=\"test-index\", doc_type=\"test-type\", id=42)['_source']\n"
   ]
  },
  {
   "cell_type": "code",
   "execution_count": null,
   "metadata": {
    "collapsed": false
   },
   "outputs": [],
   "source": [
    "es.indices.delete('test-index')"
   ]
  },
  {
   "cell_type": "code",
   "execution_count": null,
   "metadata": {
    "collapsed": false
   },
   "outputs": [],
   "source": [
    "es.index(index=\"test-index\", doc_type=\"test-type\", body={\"any\": \"data\", \"timestamp\": datetime.now()})"
   ]
  }
 ],
 "metadata": {
  "kernelspec": {
   "display_name": "Python 2",
   "language": "python",
   "name": "python2"
  },
  "language_info": {
   "codemirror_mode": {
    "name": "ipython",
    "version": 2
   },
   "file_extension": ".py",
   "mimetype": "text/x-python",
   "name": "python",
   "nbconvert_exporter": "python",
   "pygments_lexer": "ipython2",
   "version": "2.7.10"
  }
 },
 "nbformat": 4,
 "nbformat_minor": 0
}

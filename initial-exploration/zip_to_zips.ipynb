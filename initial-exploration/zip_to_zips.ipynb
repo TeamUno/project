{
 "cells": [
  {
   "cell_type": "code",
   "execution_count": 2,
   "metadata": {
    "collapsed": true
   },
   "outputs": [],
   "source": [
    "%matplotlib inline\n",
    "import matplotlib.pyplot as plt\n",
    "import pandas as pd\n",
    "import numpy as np\n",
    "import seaborn as sns"
   ]
  },
  {
   "cell_type": "code",
   "execution_count": 80,
   "metadata": {
    "collapsed": false
   },
   "outputs": [],
   "source": [
    "folder = \"../dataset/\"\n",
    "names=['zipcode','date','category','merchant','card', 'payment', 'avg', 'max', 'min', 'std']\n",
    "basic_stats = pd.io.parsers.read_table(folder + 'basic_stats000',sep='\\t', names=names, parse_dates=[\"date\"])\n",
    "\n",
    "#payment_distribution \n",
    "#expenditure-time_curve\n",
    "#demographic distribution\n",
    "\n",
    "folder = \"../dataset/\"\n",
    "names=['zipcode','date','category','zipcodecustomer','merchant','card', 'payment', 'avg', 'max', 'min', 'std']\n",
    "customer_zipcodes = pd.io.parsers.read_table(folder + 'customer_zipcodes000',sep='\\t', names=names, parse_dates=[\"date\"])\n",
    "\n",
    "\n",
    "basic_stats[\"amount\"] = basic_stats[\"payment\"]* basic_stats[\"avg\"]\n",
    "basic_stats[\"avgpaybymerch\"] = basic_stats[\"payment\"]/ basic_stats[\"merchant\"]\n",
    "basic_stats[\"amountbymerch\"] = basic_stats[\"amount\"]/ basic_stats[\"merchant\"]\n",
    "basic_stats[\"avgReppays\"] = basic_stats[\"payment\"] / basic_stats[\"card\"]\n",
    "basic_stats[\"weekday\"] = basic_stats[\"date\"].map(lambda d: (d.weekday()))\n",
    "basic_stats[\"day\"] = basic_stats[\"date\"].map(lambda d: ('{0:%d}-{0:%a}'.format(d)))\n",
    "\n",
    "customer_zipcodes[\"amount\"] = customer_zipcodes[\"payment\"]* customer_zipcodes[\"avg\"]\n",
    "customer_zipcodes[\"avgpaybymerch\"] = customer_zipcodes[\"payment\"]/ customer_zipcodes[\"merchant\"]\n",
    "customer_zipcodes[\"amountbymerch\"] = customer_zipcodes[\"amount\"]/ customer_zipcodes[\"merchant\"]\n",
    "customer_zipcodes[\"avgReppays\"] = customer_zipcodes[\"payment\"] / customer_zipcodes[\"card\"]\n",
    "customer_zipcodes[\"weekday\"] = customer_zipcodes[\"date\"].map(lambda d: (d.weekday()))\n",
    "customer_zipcodes[\"day\"] = customer_zipcodes[\"date\"].map(lambda d: ('{0:%d}-{0:%a}'.format(d)))"
   ]
  },
  {
   "cell_type": "code",
   "execution_count": null,
   "metadata": {
    "collapsed": true
   },
   "outputs": [],
   "source": [
    "#basic_stats[\"density\"]=Distribución normal (mean=avg, standarddeviation=std, cortadas( min , max)\n",
    "# np.random.normal(mu, sigma, 1000)\n",
    "#https://oneau.wordpress.com/2011/02/28/simple-statistics-with-scipy/"
   ]
  },
  {
   "cell_type": "code",
   "execution_count": 40,
   "metadata": {
    "collapsed": false
   },
   "outputs": [
    {
     "data": {
      "text/plain": [
       "132976729.3"
      ]
     },
     "execution_count": 40,
     "metadata": {},
     "output_type": "execute_result"
    }
   ],
   "source": [
    "customer_zipcodes[\"amount\"].sum()"
   ]
  },
  {
   "cell_type": "code",
   "execution_count": 15,
   "metadata": {
    "collapsed": false
   },
   "outputs": [],
   "source": [
    "customer_zipcodesbycp=pd.pivot_table(customer_zipcodes, values='amount', index=['zipcodecustomer'], aggfunc=np.sum)\n",
    "customer_zipcodesbycategory=pd.pivot_table(customer_zipcodes, values='amount', index=['category'], aggfunc=np.sum)"
   ]
  },
  {
   "cell_type": "code",
   "execution_count": 34,
   "metadata": {
    "collapsed": false
   },
   "outputs": [],
   "source": [
    "customer_zipcodes_know=customer_zipcodes[customer_zipcodes[\"zipcodecustomer\"]!='unknown']\n",
    "customer_zipcodes_unknown=customer_zipcodes[customer_zipcodes[\"zipcodecustomer\"]=='unknown']\n",
    "customer_zipcodes_08002=customer_zipcodes[customer_zipcodes[\"zipcodecustomer\"]=='08002']\n",
    "customer_zipcodes_to_08002=customer_zipcodes[customer_zipcodes[\"zipcode\"]==8002]"
   ]
  },
  {
   "cell_type": "code",
   "execution_count": 38,
   "metadata": {
    "collapsed": false
   },
   "outputs": [
    {
     "name": "stdout",
     "output_type": "stream",
     "text": [
      "27152729.1\n",
      "105824000.2\n",
      "132976729.3\n",
      "132976729.3\n"
     ]
    }
   ],
   "source": [
    "customer_zipcodes_knowbycp=pd.pivot_table(customer_zipcodes_know, values='amount', index=['zipcodecustomer'], aggfunc=np.sum)\n",
    "print customer_zipcodes_know[\"amount\"].sum()\n",
    "print customer_zipcodes_unknown[\"amount\"].sum()\n",
    "print customer_zipcodes_know[\"amount\"].sum()+customer_zipcodes_unknown[\"amount\"].sum()\n",
    "print customer_zipcodes[\"amount\"].sum()"
   ]
  },
  {
   "cell_type": "code",
   "execution_count": 54,
   "metadata": {
    "collapsed": false
   },
   "outputs": [],
   "source": [
    "zips_to_08002=pd.pivot_table(customer_zipcodes_to_08002, values='amount', index=['zipcodecustomer'], aggfunc=np.sum)\n",
    "zip_to_zips=pd.pivot_table(customer_zipcodes_08002, values='amount', index=['zipcode'], aggfunc=np.sum)"
   ]
  },
  {
   "cell_type": "code",
   "execution_count": 56,
   "metadata": {
    "collapsed": false
   },
   "outputs": [
    {
     "name": "stdout",
     "output_type": "stream",
     "text": [
      "zipcodecustomer\n",
      "00000         4169.20\n",
      "08001         8665.11\n",
      "08002        18140.79\n",
      "08003        18413.67\n",
      "08004        10191.93\n",
      "08005        10623.28\n",
      "08006         1581.56\n",
      "08009          989.50\n",
      "08010         2141.64\n",
      "08011         3059.46\n",
      "08012         3863.40\n",
      "08013        11627.84\n",
      "08014         5508.77\n",
      "08015        11568.97\n",
      "08016         1674.99\n",
      "08017          584.97\n",
      "08018         5254.30\n",
      "08019         1595.38\n",
      "08020         2656.62\n",
      "08021         1130.54\n",
      "08022          892.73\n",
      "08023         1991.30\n",
      "08024         8833.97\n",
      "08025         9107.66\n",
      "08026         6815.85\n",
      "08027         7283.11\n",
      "08028         7497.98\n",
      "08029         4122.54\n",
      "08030         4502.36\n",
      "08031         3273.84\n",
      "              ...    \n",
      "08530          376.32\n",
      "08570          267.30\n",
      "08640          292.62\n",
      "08720          449.33\n",
      "08740          724.54\n",
      "08750          588.92\n",
      "08754          100.85\n",
      "08760          215.22\n",
      "08800         1123.95\n",
      "08820         2221.00\n",
      "08830         3031.44\n",
      "08840          359.52\n",
      "08860          434.20\n",
      "08901          888.49\n",
      "08902          438.81\n",
      "08903          445.10\n",
      "08905          665.20\n",
      "08906          616.90\n",
      "08907          189.72\n",
      "08912          723.48\n",
      "08917          826.98\n",
      "08921          666.85\n",
      "08930          217.60\n",
      "08940         2601.19\n",
      "08950         2091.23\n",
      "08960          422.17\n",
      "08970         1111.38\n",
      "08980         1621.18\n",
      "25001          218.85\n",
      "unknown    6753124.94\n",
      "Name: amount, dtype: float64\n"
     ]
    },
    {
     "data": {
      "text/plain": [
       "zipcode\n",
       "8001      278.90\n",
       "8002    18140.79\n",
       "8003      974.79\n",
       "Name: amount, dtype: float64"
      ]
     },
     "execution_count": 56,
     "metadata": {},
     "output_type": "execute_result"
    }
   ],
   "source": [
    "print zips_to_08002\n",
    "zip_to_zips"
   ]
  },
  {
   "cell_type": "code",
   "execution_count": 66,
   "metadata": {
    "collapsed": false
   },
   "outputs": [
    {
     "name": "stderr",
     "output_type": "stream",
     "text": [
      "You are using pip version 7.0.1, however version 7.0.3 is available.\n",
      "You should consider upgrading via the 'pip install --upgrade pip' command.\n"
     ]
    },
    {
     "name": "stdout",
     "output_type": "stream",
     "text": [
      "Requirement already satisfied (use --upgrade to upgrade): pandasql in /Users/x/anaconda/lib/python2.7/site-packages\n"
     ]
    }
   ],
   "source": [
    "import pip\n",
    "def install(package):\n",
    "   pip.main(['install', package])\n",
    "install('pandasql') \n",
    "from pandasql import sqldf\n",
    "pysqldf = lambda q: sqldf(q, globals())"
   ]
  },
  {
   "cell_type": "code",
   "execution_count": 102,
   "metadata": {
    "collapsed": false
   },
   "outputs": [
    {
     "name": "stdout",
     "output_type": "stream",
     "text": [
      "                 category zipcodecustomer      total\n",
      "0              es_fashion         unknown  318336.85\n",
      "1   es_barsandrestaurants         unknown  131551.63\n",
      "2    es_wellnessandbeauty         unknown  117427.65\n",
      "3                 es_home         unknown  105301.65\n",
      "4               es_health         unknown   90316.94\n",
      "5                 es_food         unknown   83192.10\n",
      "6        es_otherservices         unknown   80896.23\n",
      "7                 es_auto         unknown   73140.68\n",
      "8                 es_food           08172   59402.83\n",
      "9                 es_food           08173   34879.82\n",
      "10             es_fashion           08172   34354.10\n",
      "11             es_fashion           08173   29807.60\n",
      "12              es_health           08172   17715.04\n",
      "13  es_barsandrestaurants           08172   16166.31\n",
      "14  es_barsandrestaurants           08173   14078.98\n",
      "15   es_wellnessandbeauty           08172   13573.86\n",
      "16             es_fashion           08195   13494.67\n",
      "17   es_wellnessandbeauty           08173   10804.21\n",
      "18                es_tech         unknown    9883.57\n",
      "19                es_food           08190    9679.12\n",
      "20       es_otherservices           08172    7920.26\n",
      "21                es_food           08197    6282.86\n",
      "22                es_food           08195    5496.48\n",
      "23  es_barsandrestaurants           08191    5236.25\n",
      "24             es_fashion           08190    4978.78\n",
      "25  es_barsandrestaurants           08195    4408.81\n",
      "26                es_food           08198    4313.23\n",
      "27              es_health           08173    4102.32\n",
      "28       es_otherservices           08173    3945.86\n",
      "29                es_home           08172    3942.12\n",
      "30             es_fashion           08191    3737.20\n",
      "31                es_tech           08172    3714.21\n",
      "32             es_fashion           08197    3427.99\n",
      "33                es_tech           08173    2490.03\n",
      "34                es_food           08191    2335.02\n",
      "35  es_barsandrestaurants           08190    2118.28\n",
      "36                es_food           08290    1736.23\n",
      "37                es_tech           08195    1725.20\n",
      "38              es_health           08195    1710.56\n",
      "39  es_barsandrestaurants           08197    1604.43\n",
      "40             es_fashion           08290    1271.16\n",
      "41              es_health           08190    1267.35\n",
      "42  es_barsandrestaurants           08290    1077.03\n",
      "43                es_home           08173     994.64\n",
      "44   es_wellnessandbeauty           08190     926.06\n",
      "45       es_sportsandtoys           08173     913.48\n",
      "46   es_wellnessandbeauty           08195     610.42\n",
      "47            es_contents         unknown     536.76\n",
      "48       es_otherservices           08195     450.66\n",
      "49                es_food           08174     450.52\n",
      "50       es_otherservices           08190     339.11\n",
      "51   es_wellnessandbeauty           08191     327.60\n",
      "52             es_fashion           08225     269.65\n",
      "53       es_sportsandtoys           08172     254.73\n",
      "54              es_health           08191     203.50\n",
      "55             es_fashion           08174     193.80\n",
      "56  es_barsandrestaurants           28002     182.14\n",
      "57  es_barsandrestaurants           08225     147.78\n",
      "58  es_barsandrestaurants           08174     140.20\n",
      "                 category  zipcode  sum(amount)\n",
      "0                 es_food     8172     59402.83\n",
      "1              es_fashion     8172     34354.10\n",
      "2               es_health     8172     17715.04\n",
      "3   es_barsandrestaurants     8172     16166.31\n",
      "4    es_wellnessandbeauty     8172     13573.86\n",
      "5                 es_food     8173      8769.60\n",
      "6        es_otherservices     8172      7920.26\n",
      "7   es_barsandrestaurants     8173      4743.94\n",
      "8                 es_home     8172      3942.12\n",
      "9                 es_tech     8172      3714.21\n",
      "10             es_fashion     8174      1267.20\n",
      "11      es_transportation     8006       564.60\n",
      "12             es_fashion     8191       477.12\n",
      "13       es_sportsandtoys     8172       254.73\n",
      "14             es_fashion     8002       140.80\n",
      "15                es_food     8191        80.04\n"
     ]
    }
   ],
   "source": [
    "zipcode=''\n",
    "\n",
    "queryfrom=\"\"\"\n",
    "\n",
    "SELECT category,zipcodecustomer,sum(amount) total\n",
    "FROM customer_zipcodes \n",
    "where zipcode=8172\n",
    "group by category,zipcodecustomer \n",
    "order by sum(amount) desc,zipcodecustomer ,category\n",
    "\n",
    "\"\"\"\n",
    "\n",
    "queryto=\"\"\"\n",
    "SELECT category,zipcode,sum(amount) \n",
    "FROM customer_zipcodes \n",
    "where zipcodecustomer='08172' \n",
    "group by category ,zipcode\n",
    "order by sum(amount) desc,zipcode, category \n",
    "\"\"\"\n",
    "\n",
    "print pysqldf(queryfrom)\n",
    "print pysqldf(queryto)"
   ]
  },
  {
   "cell_type": "code",
   "execution_count": null,
   "metadata": {
    "collapsed": true
   },
   "outputs": [],
   "source": []
  }
 ],
 "metadata": {
  "kernelspec": {
   "display_name": "Python 2",
   "language": "python",
   "name": "python2"
  },
  "language_info": {
   "codemirror_mode": {
    "name": "ipython",
    "version": 2
   },
   "file_extension": ".py",
   "mimetype": "text/x-python",
   "name": "python",
   "nbconvert_exporter": "python",
   "pygments_lexer": "ipython2",
   "version": "2.7.10"
  }
 },
 "nbformat": 4,
 "nbformat_minor": 0
}

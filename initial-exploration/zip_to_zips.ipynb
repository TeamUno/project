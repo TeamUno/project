{
 "cells": [
  {
   "cell_type": "code",
   "execution_count": 2,
   "metadata": {
    "collapsed": true
   },
   "outputs": [],
   "source": [
    "%matplotlib inline\n",
    "import matplotlib.pyplot as plt\n",
    "import pandas as pd\n",
    "import numpy as np\n",
    "import seaborn as sns"
   ]
  },
  {
   "cell_type": "code",
   "execution_count": 80,
   "metadata": {
    "collapsed": false
   },
   "outputs": [],
   "source": [
    "folder = \"../dataset/\"\n",
    "names=['zipcode','date','category','merchant','card', 'payment', 'avg', 'max', 'min', 'std']\n",
    "basic_stats = pd.io.parsers.read_table(folder + 'basic_stats000',sep='\\t', names=names, parse_dates=[\"date\"])\n",
    "\n",
    "#payment_distribution \n",
    "#expenditure-time_curve\n",
    "#demographic distribution\n",
    "\n",
    "folder = \"../dataset/\"\n",
    "names=['zipcode','date','category','zipcodecustomer','merchant','card', 'payment', 'avg', 'max', 'min', 'std']\n",
    "customer_zipcodes = pd.io.parsers.read_table(folder + 'customer_zipcodes000',sep='\\t', names=names, parse_dates=[\"date\"])\n",
    "\n",
    "\n",
    "basic_stats[\"amount\"] = basic_stats[\"payment\"]* basic_stats[\"avg\"]\n",
    "basic_stats[\"avgpaybymerch\"] = basic_stats[\"payment\"]/ basic_stats[\"merchant\"]\n",
    "basic_stats[\"amountbymerch\"] = basic_stats[\"amount\"]/ basic_stats[\"merchant\"]\n",
    "basic_stats[\"avgReppays\"] = basic_stats[\"payment\"] / basic_stats[\"card\"]\n",
    "basic_stats[\"weekday\"] = basic_stats[\"date\"].map(lambda d: (d.weekday()))\n",
    "basic_stats[\"day\"] = basic_stats[\"date\"].map(lambda d: ('{0:%d}-{0:%a}'.format(d)))\n",
    "\n",
    "customer_zipcodes[\"amount\"] = customer_zipcodes[\"payment\"]* customer_zipcodes[\"avg\"]\n",
    "customer_zipcodes[\"avgpaybymerch\"] = customer_zipcodes[\"payment\"]/ customer_zipcodes[\"merchant\"]\n",
    "customer_zipcodes[\"amountbymerch\"] = customer_zipcodes[\"amount\"]/ customer_zipcodes[\"merchant\"]\n",
    "customer_zipcodes[\"avgReppays\"] = customer_zipcodes[\"payment\"] / customer_zipcodes[\"card\"]\n",
    "customer_zipcodes[\"weekday\"] = customer_zipcodes[\"date\"].map(lambda d: (d.weekday()))\n",
    "customer_zipcodes[\"day\"] = customer_zipcodes[\"date\"].map(lambda d: ('{0:%d}-{0:%a}'.format(d)))"
   ]
  },
  {
   "cell_type": "code",
   "execution_count": null,
   "metadata": {
    "collapsed": true
   },
   "outputs": [],
   "source": [
    "#basic_stats[\"density\"]=Distribución normal (mean=avg, standarddeviation=std, cortadas( min , max)\n",
    "# np.random.normal(mu, sigma, 1000)\n",
    "#https://oneau.wordpress.com/2011/02/28/simple-statistics-with-scipy/"
   ]
  },
  {
   "cell_type": "code",
   "execution_count": 40,
   "metadata": {
    "collapsed": false
   },
   "outputs": [
    {
     "data": {
      "text/plain": [
       "132976729.3"
      ]
     },
     "execution_count": 40,
     "metadata": {},
     "output_type": "execute_result"
    }
   ],
   "source": [
    "customer_zipcodes[\"amount\"].sum()"
   ]
  },
  {
   "cell_type": "code",
   "execution_count": 15,
   "metadata": {
    "collapsed": false
   },
   "outputs": [],
   "source": [
    "customer_zipcodesbycp=pd.pivot_table(customer_zipcodes, values='amount', index=['zipcodecustomer'], aggfunc=np.sum)\n",
    "customer_zipcodesbycategory=pd.pivot_table(customer_zipcodes, values='amount', index=['category'], aggfunc=np.sum)"
   ]
  },
  {
   "cell_type": "code",
   "execution_count": 34,
   "metadata": {
    "collapsed": false
   },
   "outputs": [],
   "source": [
    "customer_zipcodes_know=customer_zipcodes[customer_zipcodes[\"zipcodecustomer\"]!='unknown']\n",
    "customer_zipcodes_unknown=customer_zipcodes[customer_zipcodes[\"zipcodecustomer\"]=='unknown']\n",
    "customer_zipcodes_08002=customer_zipcodes[customer_zipcodes[\"zipcodecustomer\"]=='08002']\n",
    "customer_zipcodes_to_08002=customer_zipcodes[customer_zipcodes[\"zipcode\"]==8002]"
   ]
  },
  {
   "cell_type": "code",
   "execution_count": 38,
   "metadata": {
    "collapsed": false
   },
   "outputs": [
    {
     "name": "stdout",
     "output_type": "stream",
     "text": [
      "27152729.1\n",
      "105824000.2\n",
      "132976729.3\n",
      "132976729.3\n"
     ]
    }
   ],
   "source": [
    "customer_zipcodes_knowbycp=pd.pivot_table(customer_zipcodes_know, values='amount', index=['zipcodecustomer'], aggfunc=np.sum)\n",
    "print customer_zipcodes_know[\"amount\"].sum()\n",
    "print customer_zipcodes_unknown[\"amount\"].sum()\n",
    "print customer_zipcodes_know[\"amount\"].sum()+customer_zipcodes_unknown[\"amount\"].sum()\n",
    "print customer_zipcodes[\"amount\"].sum()"
   ]
  },
  {
   "cell_type": "code",
   "execution_count": 54,
   "metadata": {
    "collapsed": false
   },
   "outputs": [],
   "source": [
    "zips_to_08002=pd.pivot_table(customer_zipcodes_to_08002, values='amount', index=['zipcodecustomer'], aggfunc=np.sum)\n",
    "zip_to_zips=pd.pivot_table(customer_zipcodes_08002, values='amount', index=['zipcode'], aggfunc=np.sum)"
   ]
  },
  {
   "cell_type": "code",
   "execution_count": 56,
   "metadata": {
    "collapsed": false
   },
   "outputs": [
    {
     "name": "stdout",
     "output_type": "stream",
     "text": [
      "zipcodecustomer\n",
      "00000         4169.20\n",
      "08001         8665.11\n",
      "08002        18140.79\n",
      "08003        18413.67\n",
      "08004        10191.93\n",
      "08005        10623.28\n",
      "08006         1581.56\n",
      "08009          989.50\n",
      "08010         2141.64\n",
      "08011         3059.46\n",
      "08012         3863.40\n",
      "08013        11627.84\n",
      "08014         5508.77\n",
      "08015        11568.97\n",
      "08016         1674.99\n",
      "08017          584.97\n",
      "08018         5254.30\n",
      "08019         1595.38\n",
      "08020         2656.62\n",
      "08021         1130.54\n",
      "08022          892.73\n",
      "08023         1991.30\n",
      "08024         8833.97\n",
      "08025         9107.66\n",
      "08026         6815.85\n",
      "08027         7283.11\n",
      "08028         7497.98\n",
      "08029         4122.54\n",
      "08030         4502.36\n",
      "08031         3273.84\n",
      "              ...    \n",
      "08530          376.32\n",
      "08570          267.30\n",
      "08640          292.62\n",
      "08720          449.33\n",
      "08740          724.54\n",
      "08750          588.92\n",
      "08754          100.85\n",
      "08760          215.22\n",
      "08800         1123.95\n",
      "08820         2221.00\n",
      "08830         3031.44\n",
      "08840          359.52\n",
      "08860          434.20\n",
      "08901          888.49\n",
      "08902          438.81\n",
      "08903          445.10\n",
      "08905          665.20\n",
      "08906          616.90\n",
      "08907          189.72\n",
      "08912          723.48\n",
      "08917          826.98\n",
      "08921          666.85\n",
      "08930          217.60\n",
      "08940         2601.19\n",
      "08950         2091.23\n",
      "08960          422.17\n",
      "08970         1111.38\n",
      "08980         1621.18\n",
      "25001          218.85\n",
      "unknown    6753124.94\n",
      "Name: amount, dtype: float64\n"
     ]
    },
    {
     "data": {
      "text/plain": [
       "zipcode\n",
       "8001      278.90\n",
       "8002    18140.79\n",
       "8003      974.79\n",
       "Name: amount, dtype: float64"
      ]
     },
     "execution_count": 56,
     "metadata": {},
     "output_type": "execute_result"
    }
   ],
   "source": [
    "print zips_to_08002\n",
    "zip_to_zips"
   ]
  },
  {
   "cell_type": "code",
   "execution_count": 66,
   "metadata": {
    "collapsed": false
   },
   "outputs": [
    {
     "name": "stderr",
     "output_type": "stream",
     "text": [
      "You are using pip version 7.0.1, however version 7.0.3 is available.\n",
      "You should consider upgrading via the 'pip install --upgrade pip' command.\n"
     ]
    },
    {
     "name": "stdout",
     "output_type": "stream",
     "text": [
      "Requirement already satisfied (use --upgrade to upgrade): pandasql in /Users/x/anaconda/lib/python2.7/site-packages\n"
     ]
    }
   ],
   "source": [
    "import pip\n",
    "def install(package):\n",
    "   pip.main(['install', package])\n",
    "install('pandasql') \n",
    "from pandasql import sqldf\n",
    "pysqldf = lambda q: sqldf(q, globals())"
   ]
  },
  {
   "cell_type": "code",
   "execution_count": 83,
   "metadata": {
    "collapsed": false
   },
   "outputs": [
    {
     "name": "stdout",
     "output_type": "stream",
     "text": [
      "    zipcodecustomer  sum(amount)\n",
      "0             00000      4169.20\n",
      "1             08001      8665.11\n",
      "2             08002     18140.79\n",
      "3             08003     18413.67\n",
      "4             08004     10191.93\n",
      "5             08005     10623.28\n",
      "6             08006      1581.56\n",
      "7             08009       989.50\n",
      "8             08010      2141.64\n",
      "9             08011      3059.46\n",
      "10            08012      3863.40\n",
      "11            08013     11627.84\n",
      "12            08014      5508.77\n",
      "13            08015     11568.97\n",
      "14            08016      1674.99\n",
      "15            08017       584.97\n",
      "16            08018      5254.30\n",
      "17            08019      1595.38\n",
      "18            08020      2656.62\n",
      "19            08021      1130.54\n",
      "20            08022       892.73\n",
      "21            08023      1991.30\n",
      "22            08024      8833.97\n",
      "23            08025      9107.66\n",
      "24            08026      6815.85\n",
      "25            08027      7283.11\n",
      "26            08028      7497.98\n",
      "27            08029      4122.54\n",
      "28            08030      4502.36\n",
      "29            08031      3273.84\n",
      "..              ...          ...\n",
      "72            08530       376.32\n",
      "73            08570       267.30\n",
      "74            08640       292.62\n",
      "75            08720       449.33\n",
      "76            08740       724.54\n",
      "77            08750       588.92\n",
      "78            08754       100.85\n",
      "79            08760       215.22\n",
      "80            08800      1123.95\n",
      "81            08820      2221.00\n",
      "82            08830      3031.44\n",
      "83            08840       359.52\n",
      "84            08860       434.20\n",
      "85            08901       888.49\n",
      "86            08902       438.81\n",
      "87            08903       445.10\n",
      "88            08905       665.20\n",
      "89            08906       616.90\n",
      "90            08907       189.72\n",
      "91            08912       723.48\n",
      "92            08917       826.98\n",
      "93            08921       666.85\n",
      "94            08930       217.60\n",
      "95            08940      2601.19\n",
      "96            08950      2091.23\n",
      "97            08960       422.17\n",
      "98            08970      1111.38\n",
      "99            08980      1621.18\n",
      "100           25001       218.85\n",
      "101         unknown   6753124.94\n",
      "\n",
      "[102 rows x 2 columns]\n",
      "   zipcode  sum(amount)\n",
      "0     8001       278.90\n",
      "1     8002     18140.79\n",
      "2     8003       974.79\n"
     ]
    }
   ],
   "source": [
    "zipcode=''\n",
    "\n",
    "queryfrom=\"\"\"\n",
    "SELECT zipcodecustomer,sum(amount) \n",
    "FROM customer_zipcodes \n",
    "where zipcode=8002 \n",
    "group by zipcodecustomer \n",
    "\"\"\"\n",
    "\n",
    "queryto=\"\"\"\n",
    "SELECT zipcode,sum(amount) \n",
    "FROM customer_zipcodes \n",
    "where zipcodecustomer='08002' \n",
    "group by zipcode \n",
    "\n",
    "\"\"\"\n",
    "\n",
    "print pysqldf(queryfrom)\n",
    "print pysqldf(queryto)"
   ]
  },
  {
   "cell_type": "code",
   "execution_count": null,
   "metadata": {
    "collapsed": true
   },
   "outputs": [],
   "source": []
  }
 ],
 "metadata": {
  "kernelspec": {
   "display_name": "Python 2",
   "language": "python",
   "name": "python2"
  },
  "language_info": {
   "codemirror_mode": {
    "name": "ipython",
    "version": 2
   },
   "file_extension": ".py",
   "mimetype": "text/x-python",
   "name": "python",
   "nbconvert_exporter": "python",
   "pygments_lexer": "ipython2",
   "version": "2.7.10"
  }
 },
 "nbformat": 4,
 "nbformat_minor": 0
}

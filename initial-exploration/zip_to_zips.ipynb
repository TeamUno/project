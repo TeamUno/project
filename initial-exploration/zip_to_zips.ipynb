{
 "cells": [
  {
   "cell_type": "code",
   "execution_count": 35,
   "metadata": {
    "collapsed": true
   },
   "outputs": [],
   "source": [
    "%matplotlib inline\n",
    "import matplotlib.pyplot as plt\n",
    "import pandas as pd\n",
    "import numpy as np\n",
    "import seaborn as sns\n",
    "from pandasql import sqldf\n",
    "pysqldf = lambda q: sqldf(q, globals())"
   ]
  },
  {
   "cell_type": "code",
   "execution_count": 36,
   "metadata": {
    "collapsed": false
   },
   "outputs": [],
   "source": [
    "#basic_stats\n",
    "folder = \"../dataset/\"\n",
    "names=['zipcode','date','category','merchant','card', 'payment', 'avg', 'max', 'min', 'std']\n",
    "basic_stats = pd.io.parsers.read_table(folder + 'basic_stats000',sep='\\t', names=names, parse_dates=[\"date\"])\n",
    "\n",
    "#customer_zipcodes\n",
    "folder = \"../dataset/\"\n",
    "names=['zipcode','date','category','zipcodecustomer','merchant','card', 'payment', 'avg', 'max', 'min', 'std']\n",
    "customer_zipcodes = pd.io.parsers.read_table(folder + 'customer_zipcodes000',sep='\\t', names=names, parse_dates=[\"date\"])\n",
    "\n",
    "#payment_distribution \n",
    "folder = \"../dataset/\"\n",
    "names=['zipcode','date','category','paymentinterval','merchant','card', 'payment', 'avg', 'max', 'min', 'std']\n",
    "payment_distribution = pd.io.parsers.read_table(folder + 'payment_distribution000',sep='\\t', names=names, parse_dates=[\"date\"])\n",
    "\n",
    "#demographic distribution\n",
    "folder = \"../dataset/\"\n",
    "names=['zipcode','date','category','ageinterval','gender','merchant','card', 'payment', 'avg', 'max', 'min', 'std']\n",
    "demographic_distribution = pd.io.parsers.read_table(folder + 'demographic_distribution000',sep='\\t', names=names, parse_dates=[\"date\"])\n",
    "\n",
    "#expenditure-time_curve\n",
    "folder = \"../dataset/\"\n",
    "names=['zipcode','date','day_of_week','hour','merchant','card', 'payment', 'avg', 'max', 'min', 'std']\n",
    "expenditure_time_curve = pd.io.parsers.read_table(folder + 'expenditure-time_curve000',sep='\\t', names=names, parse_dates=[\"date\"])\n",
    "\n",
    "\n",
    "basic_stats[\"amount\"] = basic_stats[\"payment\"]* basic_stats[\"avg\"]\n",
    "basic_stats[\"avgpaybymerch\"] = basic_stats[\"payment\"]/ basic_stats[\"merchant\"]\n",
    "basic_stats[\"amountbymerch\"] = basic_stats[\"amount\"]/ basic_stats[\"merchant\"]\n",
    "basic_stats[\"avgReppays\"] = basic_stats[\"payment\"] / basic_stats[\"card\"]\n",
    "basic_stats[\"weekday\"] = basic_stats[\"date\"].map(lambda d: (d.weekday()))\n",
    "basic_stats[\"day\"] = basic_stats[\"date\"].map(lambda d: ('{0:%d}-{0:%a}'.format(d)))\n",
    "\n",
    "customer_zipcodes[\"amount\"] = customer_zipcodes[\"payment\"]* customer_zipcodes[\"avg\"]\n",
    "customer_zipcodes[\"avgpaybymerch\"] = customer_zipcodes[\"payment\"]/ customer_zipcodes[\"merchant\"]\n",
    "customer_zipcodes[\"amountbymerch\"] = customer_zipcodes[\"amount\"]/ customer_zipcodes[\"merchant\"]\n",
    "customer_zipcodes[\"avgReppays\"] = customer_zipcodes[\"payment\"] / customer_zipcodes[\"card\"]\n",
    "customer_zipcodes[\"weekday\"] = customer_zipcodes[\"date\"].map(lambda d: (d.weekday()))\n",
    "customer_zipcodes[\"day\"] = customer_zipcodes[\"date\"].map(lambda d: ('{0:%d}-{0:%a}'.format(d)))\n",
    "\n",
    "payment_distribution[\"amount\"] = payment_distribution[\"payment\"]* payment_distribution[\"avg\"]\n",
    "demographic_distribution[\"amount\"] = demographic_distribution[\"payment\"]* demographic_distribution[\"avg\"]\n",
    "expenditure_time_curve[\"amount\"] = expenditure_time_curve[\"payment\"]* expenditure_time_curve[\"avg\"]\n"
   ]
  },
  {
   "cell_type": "code",
   "execution_count": null,
   "metadata": {
    "collapsed": true
   },
   "outputs": [],
   "source": [
    "#basic_stats[\"density\"]=Distribución normal (mean=avg, standarddeviation=std, cortadas( min , max)\n",
    "# np.random.normal(mu, sigma, 1000)\n",
    "#https://oneau.wordpress.com/2011/02/28/simple-statistics-with-scipy/"
   ]
  },
  {
   "cell_type": "code",
   "execution_count": 40,
   "metadata": {
    "collapsed": false
   },
   "outputs": [
    {
     "data": {
      "text/plain": [
       "132976729.3"
      ]
     },
     "execution_count": 40,
     "metadata": {},
     "output_type": "execute_result"
    }
   ],
   "source": [
    "customer_zipcodes[\"amount\"].sum()"
   ]
  },
  {
   "cell_type": "code",
   "execution_count": 15,
   "metadata": {
    "collapsed": false
   },
   "outputs": [],
   "source": [
    "customer_zipcodesbycp=pd.pivot_table(customer_zipcodes, values='amount', index=['zipcodecustomer'], aggfunc=np.sum)\n",
    "customer_zipcodesbycategory=pd.pivot_table(customer_zipcodes, values='amount', index=['category'], aggfunc=np.sum)"
   ]
  },
  {
   "cell_type": "code",
   "execution_count": 34,
   "metadata": {
    "collapsed": false
   },
   "outputs": [],
   "source": [
    "customer_zipcodes_know=customer_zipcodes[customer_zipcodes[\"zipcodecustomer\"]!='unknown']\n",
    "customer_zipcodes_unknown=customer_zipcodes[customer_zipcodes[\"zipcodecustomer\"]=='unknown']\n",
    "customer_zipcodes_08002=customer_zipcodes[customer_zipcodes[\"zipcodecustomer\"]=='08002']\n",
    "customer_zipcodes_to_08002=customer_zipcodes[customer_zipcodes[\"zipcode\"]==8002]"
   ]
  },
  {
   "cell_type": "code",
   "execution_count": 38,
   "metadata": {
    "collapsed": false
   },
   "outputs": [
    {
     "name": "stdout",
     "output_type": "stream",
     "text": [
      "27152729.1\n",
      "105824000.2\n",
      "132976729.3\n",
      "132976729.3\n"
     ]
    }
   ],
   "source": [
    "customer_zipcodes_knowbycp=pd.pivot_table(customer_zipcodes_know, values='amount', index=['zipcodecustomer'], aggfunc=np.sum)\n",
    "print customer_zipcodes_know[\"amount\"].sum()\n",
    "print customer_zipcodes_unknown[\"amount\"].sum()\n",
    "print customer_zipcodes_know[\"amount\"].sum()+customer_zipcodes_unknown[\"amount\"].sum()\n",
    "print customer_zipcodes[\"amount\"].sum()"
   ]
  },
  {
   "cell_type": "code",
   "execution_count": 54,
   "metadata": {
    "collapsed": false
   },
   "outputs": [],
   "source": [
    "zips_to_08002=pd.pivot_table(customer_zipcodes_to_08002, values='amount', index=['zipcodecustomer'], aggfunc=np.sum)\n",
    "zip_to_zips=pd.pivot_table(customer_zipcodes_08002, values='amount', index=['zipcode'], aggfunc=np.sum)"
   ]
  },
  {
   "cell_type": "code",
   "execution_count": 56,
   "metadata": {
    "collapsed": false
   },
   "outputs": [
    {
     "name": "stdout",
     "output_type": "stream",
     "text": [
      "zipcodecustomer\n",
      "00000         4169.20\n",
      "08001         8665.11\n",
      "08002        18140.79\n",
      "08003        18413.67\n",
      "08004        10191.93\n",
      "08005        10623.28\n",
      "08006         1581.56\n",
      "08009          989.50\n",
      "08010         2141.64\n",
      "08011         3059.46\n",
      "08012         3863.40\n",
      "08013        11627.84\n",
      "08014         5508.77\n",
      "08015        11568.97\n",
      "08016         1674.99\n",
      "08017          584.97\n",
      "08018         5254.30\n",
      "08019         1595.38\n",
      "08020         2656.62\n",
      "08021         1130.54\n",
      "08022          892.73\n",
      "08023         1991.30\n",
      "08024         8833.97\n",
      "08025         9107.66\n",
      "08026         6815.85\n",
      "08027         7283.11\n",
      "08028         7497.98\n",
      "08029         4122.54\n",
      "08030         4502.36\n",
      "08031         3273.84\n",
      "              ...    \n",
      "08530          376.32\n",
      "08570          267.30\n",
      "08640          292.62\n",
      "08720          449.33\n",
      "08740          724.54\n",
      "08750          588.92\n",
      "08754          100.85\n",
      "08760          215.22\n",
      "08800         1123.95\n",
      "08820         2221.00\n",
      "08830         3031.44\n",
      "08840          359.52\n",
      "08860          434.20\n",
      "08901          888.49\n",
      "08902          438.81\n",
      "08903          445.10\n",
      "08905          665.20\n",
      "08906          616.90\n",
      "08907          189.72\n",
      "08912          723.48\n",
      "08917          826.98\n",
      "08921          666.85\n",
      "08930          217.60\n",
      "08940         2601.19\n",
      "08950         2091.23\n",
      "08960          422.17\n",
      "08970         1111.38\n",
      "08980         1621.18\n",
      "25001          218.85\n",
      "unknown    6753124.94\n",
      "Name: amount, dtype: float64\n"
     ]
    },
    {
     "data": {
      "text/plain": [
       "zipcode\n",
       "8001      278.90\n",
       "8002    18140.79\n",
       "8003      974.79\n",
       "Name: amount, dtype: float64"
      ]
     },
     "execution_count": 56,
     "metadata": {},
     "output_type": "execute_result"
    }
   ],
   "source": [
    "print zips_to_08002\n",
    "zip_to_zips"
   ]
  },
  {
   "cell_type": "code",
   "execution_count": 66,
   "metadata": {
    "collapsed": false
   },
   "outputs": [
    {
     "name": "stderr",
     "output_type": "stream",
     "text": [
      "You are using pip version 7.0.1, however version 7.0.3 is available.\n",
      "You should consider upgrading via the 'pip install --upgrade pip' command.\n"
     ]
    },
    {
     "name": "stdout",
     "output_type": "stream",
     "text": [
      "Requirement already satisfied (use --upgrade to upgrade): pandasql in /Users/x/anaconda/lib/python2.7/site-packages\n"
     ]
    }
   ],
   "source": [
    "import pip\n",
    "def install(package):\n",
    "   pip.main(['install', package])\n",
    "install('pandasql') \n",
    "from pandasql import sqldf\n",
    "pysqldf = lambda q: sqldf(q, globals())"
   ]
  },
  {
   "cell_type": "code",
   "execution_count": 102,
   "metadata": {
    "collapsed": false
   },
   "outputs": [
    {
     "name": "stdout",
     "output_type": "stream",
     "text": [
      "                 category zipcodecustomer      total\n",
      "0              es_fashion         unknown  318336.85\n",
      "1   es_barsandrestaurants         unknown  131551.63\n",
      "2    es_wellnessandbeauty         unknown  117427.65\n",
      "3                 es_home         unknown  105301.65\n",
      "4               es_health         unknown   90316.94\n",
      "5                 es_food         unknown   83192.10\n",
      "6        es_otherservices         unknown   80896.23\n",
      "7                 es_auto         unknown   73140.68\n",
      "8                 es_food           08172   59402.83\n",
      "9                 es_food           08173   34879.82\n",
      "10             es_fashion           08172   34354.10\n",
      "11             es_fashion           08173   29807.60\n",
      "12              es_health           08172   17715.04\n",
      "13  es_barsandrestaurants           08172   16166.31\n",
      "14  es_barsandrestaurants           08173   14078.98\n",
      "15   es_wellnessandbeauty           08172   13573.86\n",
      "16             es_fashion           08195   13494.67\n",
      "17   es_wellnessandbeauty           08173   10804.21\n",
      "18                es_tech         unknown    9883.57\n",
      "19                es_food           08190    9679.12\n",
      "20       es_otherservices           08172    7920.26\n",
      "21                es_food           08197    6282.86\n",
      "22                es_food           08195    5496.48\n",
      "23  es_barsandrestaurants           08191    5236.25\n",
      "24             es_fashion           08190    4978.78\n",
      "25  es_barsandrestaurants           08195    4408.81\n",
      "26                es_food           08198    4313.23\n",
      "27              es_health           08173    4102.32\n",
      "28       es_otherservices           08173    3945.86\n",
      "29                es_home           08172    3942.12\n",
      "30             es_fashion           08191    3737.20\n",
      "31                es_tech           08172    3714.21\n",
      "32             es_fashion           08197    3427.99\n",
      "33                es_tech           08173    2490.03\n",
      "34                es_food           08191    2335.02\n",
      "35  es_barsandrestaurants           08190    2118.28\n",
      "36                es_food           08290    1736.23\n",
      "37                es_tech           08195    1725.20\n",
      "38              es_health           08195    1710.56\n",
      "39  es_barsandrestaurants           08197    1604.43\n",
      "40             es_fashion           08290    1271.16\n",
      "41              es_health           08190    1267.35\n",
      "42  es_barsandrestaurants           08290    1077.03\n",
      "43                es_home           08173     994.64\n",
      "44   es_wellnessandbeauty           08190     926.06\n",
      "45       es_sportsandtoys           08173     913.48\n",
      "46   es_wellnessandbeauty           08195     610.42\n",
      "47            es_contents         unknown     536.76\n",
      "48       es_otherservices           08195     450.66\n",
      "49                es_food           08174     450.52\n",
      "50       es_otherservices           08190     339.11\n",
      "51   es_wellnessandbeauty           08191     327.60\n",
      "52             es_fashion           08225     269.65\n",
      "53       es_sportsandtoys           08172     254.73\n",
      "54              es_health           08191     203.50\n",
      "55             es_fashion           08174     193.80\n",
      "56  es_barsandrestaurants           28002     182.14\n",
      "57  es_barsandrestaurants           08225     147.78\n",
      "58  es_barsandrestaurants           08174     140.20\n",
      "                 category  zipcode  sum(amount)\n",
      "0                 es_food     8172     59402.83\n",
      "1              es_fashion     8172     34354.10\n",
      "2               es_health     8172     17715.04\n",
      "3   es_barsandrestaurants     8172     16166.31\n",
      "4    es_wellnessandbeauty     8172     13573.86\n",
      "5                 es_food     8173      8769.60\n",
      "6        es_otherservices     8172      7920.26\n",
      "7   es_barsandrestaurants     8173      4743.94\n",
      "8                 es_home     8172      3942.12\n",
      "9                 es_tech     8172      3714.21\n",
      "10             es_fashion     8174      1267.20\n",
      "11      es_transportation     8006       564.60\n",
      "12             es_fashion     8191       477.12\n",
      "13       es_sportsandtoys     8172       254.73\n",
      "14             es_fashion     8002       140.80\n",
      "15                es_food     8191        80.04\n"
     ]
    }
   ],
   "source": [
    "zipcode=''\n",
    "\n",
    "queryfrom=\"\"\"\n",
    "\n",
    "SELECT category,zipcodecustomer,sum(amount) total\n",
    "FROM customer_zipcodes \n",
    "where zipcode=8172\n",
    "group by category,zipcodecustomer \n",
    "order by sum(amount) desc,zipcodecustomer ,category\n",
    "\n",
    "\"\"\"\n",
    "\n",
    "queryto=\"\"\"\n",
    "SELECT category,zipcode,sum(amount) \n",
    "FROM customer_zipcodes \n",
    "where zipcodecustomer='08172' \n",
    "group by category ,zipcode\n",
    "order by sum(amount) desc,zipcode, category \n",
    "\"\"\"\n",
    "\n",
    "print pysqldf(queryfrom)\n",
    "print pysqldf(queryto)"
   ]
  },
  {
   "cell_type": "code",
   "execution_count": 47,
   "metadata": {
    "collapsed": false
   },
   "outputs": [
    {
     "name": "stdout",
     "output_type": "stream",
     "text": [
      "   zipcode                 date category paymentinterval  merchant  card  \\\n",
      "0     8500  2014-07-04 00:00:00  es_food        20-29.99        41   171   \n",
      "1     8500  2014-07-26 00:00:00  es_food        20-29.99        36   159   \n",
      "2     8225  2014-07-04 00:00:00  es_food        20-29.99        22   153   \n",
      "3     8225  2014-07-11 00:00:00  es_food        20-29.99        26   153   \n",
      "4     8500  2014-07-12 00:00:00  es_food        20-29.99        33   145   \n",
      "5     8225  2014-07-12 00:00:00  es_food        20-29.99        20   147   \n",
      "6     8500  2014-07-18 00:00:00  es_food        20-29.99        38   140   \n",
      "7     8225  2014-07-05 00:00:00  es_food        20-29.99        21   145   \n",
      "8    43883  2014-07-26 00:00:00  es_food        20-29.99         9   137   \n",
      "9     8225  2014-07-08 00:00:00  es_food        20-29.99        24   142   \n",
      "\n",
      "   payment    avg    max    min       std   amount  \n",
      "0      173  25.01  29.89  20.22  2.561822  4326.73  \n",
      "1      161  24.67  29.94  20.00  2.992272  3971.87  \n",
      "2      156  24.94  29.99  20.00  2.798584  3890.64  \n",
      "3      158  24.48  29.81  20.09  2.887853  3867.84  \n",
      "4      149  25.03  29.99  20.00  2.767250  3729.47  \n",
      "5      148  24.80  29.99  20.16  2.930914  3670.40  \n",
      "6      147  24.88  29.90  20.08  2.814246  3657.36  \n",
      "7      147  24.28  29.90  20.00  2.863148  3569.16  \n",
      "8      139  25.07  29.98  20.05  2.800504  3484.73  \n",
      "9      144  24.17  29.80  20.02  2.806002  3480.48  \n"
     ]
    }
   ],
   "source": [
    "#query from app will have:\n",
    "#  time/date -> hour/day of week\n",
    "#  category\n",
    "#  Age\n",
    "#  gender\n",
    "#  amount ?? depends on number of persons (how many will you be?)\n",
    "#  location -> x,y \n",
    "#  weather\n",
    "\n",
    "query=\"\"\"\n",
    "\n",
    "SELECT *\n",
    "FROM payment_distribution \n",
    "where paymentinterval  = '20-29.99' and category='es_food'\n",
    "order by amount desc\n",
    "LIMIT 10\n",
    "\n",
    "\"\"\"\n",
    "print pysqldf(query)\n"
   ]
  },
  {
   "cell_type": "code",
   "execution_count": 43,
   "metadata": {
    "collapsed": false
   },
   "outputs": [
    {
     "name": "stdout",
     "output_type": "stream",
     "text": [
      "   zipcode                 date          category ageinterval  gender  \\\n",
      "0     8020  2014-07-19 00:00:00           es_food       45-54  female   \n",
      "1     8028  2014-07-08 00:00:00  es_otherservices       25-34  female   \n",
      "2     8028  2014-07-08 00:00:00  es_otherservices       25-34  female   \n",
      "3     8028  2014-07-08 00:00:00  es_otherservices       35-44    male   \n",
      "4     8028  2014-07-08 00:00:00  es_otherservices       25-34    male   \n",
      "5     8028  2014-07-09 00:00:00  es_otherservices       25-34    male   \n",
      "6     8028  2014-07-09 00:00:00  es_otherservices       25-34  female   \n",
      "7     8028  2014-07-11 00:00:00  es_otherservices       35-44  female   \n",
      "8     8028  2014-07-08 00:00:00  es_otherservices       25-34  female   \n",
      "9     8028  2014-07-09 00:00:00  es_otherservices       35-44    male   \n",
      "\n",
      "   merchant  card  payment     avg      max    min         std   amount  \n",
      "0         6     5       10  529.77  2103.88  24.77  676.820590  5297.70  \n",
      "1         6    17       33  147.10   300.90  30.00  113.202892  4854.30  \n",
      "2         5    17       33  134.77   275.00  11.20  117.491628  4447.41  \n",
      "3         6    13       21  203.81  1923.93  25.00  400.802995  4280.01  \n",
      "4         5    14       25  150.07   277.48  30.00  113.738623  3751.75  \n",
      "5         5    11       25  127.47   275.00  13.00  120.579160  3186.75  \n",
      "6         5    12       21  143.07   275.00  15.04  113.324087  3004.47  \n",
      "7         5    12       20  146.25   300.00  30.00  119.426969  2925.00  \n",
      "8         6    14       23  125.30   275.00  15.00  113.929869  2881.90  \n",
      "9         5    12       19  149.75   275.00  30.00  119.179115  2845.25  \n"
     ]
    }
   ],
   "source": [
    "\n",
    "query=\"\"\"\n",
    "\n",
    "SELECT *\n",
    "FROM demographic_distribution \n",
    "where ageinterval!='unknown' and gender !='unknown'\n",
    "order by amount desc\n",
    "LIMIT 10\n",
    "\n",
    "\"\"\"\n",
    "print pysqldf(query)\n"
   ]
  },
  {
   "cell_type": "code",
   "execution_count": 39,
   "metadata": {
    "collapsed": false
   },
   "outputs": [
    {
     "name": "stdout",
     "output_type": "stream",
     "text": [
      "   zipcode                 date day_of_week  hour  merchant  card  payment  \\\n",
      "0     8029  2014-07-03 00:00:00           J    11       127   258      269   \n",
      "1     8020  2014-07-12 00:00:00           S    12        92   454      480   \n",
      "2     8029  2014-07-03 00:00:00           J    12       121   312      327   \n",
      "3     8009  2014-07-30 00:00:00           X    11        52    92       97   \n",
      "4     8002  2014-07-01 00:00:00           M    19       164  1106     1191   \n",
      "5     8002  2014-07-01 00:00:00           M    12       137   924      991   \n",
      "6     8020  2014-07-05 00:00:00           S    13        82   368      386   \n",
      "7     8002  2014-07-02 00:00:00           X    19       158  1013     1064   \n",
      "8     8020  2014-07-05 00:00:00           S    12        89   469      485   \n",
      "9     8002  2014-07-01 00:00:00           M    13       139   883      959   \n",
      "\n",
      "      avg       max   min          std    amount  \n",
      "0  256.94  45000.00  2.24  2814.550930  69116.86  \n",
      "1  124.76   2584.20  3.70   204.734697  59884.80  \n",
      "2  170.88  30000.00  0.25  1780.087061  55877.76  \n",
      "3  557.55  44360.48  1.60  4483.910625  54082.35  \n",
      "4   43.68   1217.38  1.95    59.170498  52022.88  \n",
      "5   51.13   1343.69  1.05    83.463362  50669.83  \n",
      "6  127.34   1992.79  4.39   199.635153  49153.24  \n",
      "7   46.00   1026.85  1.04    71.102599  48944.00  \n",
      "8  100.64   1592.58  1.67   138.527076  48810.40  \n",
      "9   50.81   2000.00  0.69    94.540814  48726.79  \n",
      "   hour        total\n",
      "0    19  29757731.12\n",
      "1    18  26805619.72\n",
      "2    12  25042385.52\n",
      "3    11  22657137.00\n",
      "4    17  19765121.02\n",
      "5    20  19479912.45\n",
      "6    13  19467511.13\n",
      "7    10  15082024.56\n",
      "8    16  14403693.65\n",
      "9    15  12474367.73\n",
      "  day_of_week        total\n",
      "0           M  43321894.60\n",
      "1           J  42854740.99\n",
      "2           X  42395201.78\n",
      "3           V  38189665.91\n",
      "4           S  34645831.80\n",
      "5           L  31294035.24\n",
      "6           D  10792639.32\n"
     ]
    }
   ],
   "source": [
    "query=\"\"\"\n",
    "\n",
    "SELECT *\n",
    "FROM expenditure_time_curve \n",
    "order by amount desc\n",
    "LIMIT 10\n",
    "\n",
    "\"\"\"\n",
    "print pysqldf(query)\n",
    "\n",
    "query=\"\"\"\n",
    "\n",
    "SELECT hour, sum(amount) total\n",
    "FROM expenditure_time_curve \n",
    "group by hour\n",
    "order by total desc\n",
    "LIMIT 10\n",
    "\n",
    "\"\"\"\n",
    "print pysqldf(query)\n",
    "\n",
    "query=\"\"\"\n",
    "\n",
    "SELECT day_of_week, sum(amount) total\n",
    "FROM expenditure_time_curve \n",
    "group by day_of_week\n",
    "order by total desc\n",
    "LIMIT 10\n",
    "\n",
    "\"\"\"\n",
    "print pysqldf(query)\n"
   ]
  },
  {
   "cell_type": "code",
   "execution_count": 49,
   "metadata": {
    "collapsed": false
   },
   "outputs": [
    {
     "name": "stdout",
     "output_type": "stream",
     "text": [
      "                  date day_of_week  hour    total\n",
      "0  2014-07-01 00:00:00           M     0   664.60\n",
      "1  2014-07-01 00:00:00           M     1   256.50\n",
      "2  2014-07-01 00:00:00           M     8  4076.32\n"
     ]
    },
    {
     "data": {
      "text/plain": [
       "<matplotlib.axes._subplots.AxesSubplot at 0x10a68e950>"
      ]
     },
     "execution_count": 49,
     "metadata": {},
     "output_type": "execute_result"
    },
    {
     "data": {
      "image/png": "[encoded data removed]",
      "text/plain": [
       "<matplotlib.figure.Figure at 0x113e34190>"
      ]
     },
     "metadata": {},
     "output_type": "display_data"
    }
   ],
   "source": [
    "query=\"\"\"\n",
    "\n",
    "SELECT date,day_of_week,hour, sum(amount) total\n",
    "FROM expenditure_time_curve \n",
    "where zipcode='08002'\n",
    "group by date,day_of_week,hour\n",
    "order by date,day_of_week,hour \n",
    "\n",
    "\n",
    "\"\"\"\n",
    "time_curve= pysqldf(query)\n",
    "print time_curve[:3]\n",
    "time_curve.plot()\n"
   ]
  },
  {
   "cell_type": "code",
   "execution_count": null,
   "metadata": {
    "collapsed": true
   },
   "outputs": [],
   "source": []
  }
 ],
 "metadata": {
  "kernelspec": {
   "display_name": "Python 2",
   "language": "python",
   "name": "python2"
  },
  "language_info": {
   "codemirror_mode": {
    "name": "ipython",
    "version": 2
   },
   "file_extension": ".py",
   "mimetype": "text/x-python",
   "name": "python",
   "nbconvert_exporter": "python",
   "pygments_lexer": "ipython2",
   "version": "2.7.10"
  }
 },
 "nbformat": 4,
 "nbformat_minor": 0
}

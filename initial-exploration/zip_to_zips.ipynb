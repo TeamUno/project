{
 "cells": [
  {
   "cell_type": "code",
   "execution_count": 2,
   "metadata": {
    "collapsed": true
   },
   "outputs": [],
   "source": [
    "%matplotlib inline\n",
    "import matplotlib.pyplot as plt\n",
    "import pandas as pd\n",
    "import numpy as np\n",
    "import seaborn as sns"
   ]
  },
  {
   "cell_type": "code",
   "execution_count": 39,
   "metadata": {
    "collapsed": false
   },
   "outputs": [],
   "source": [
    "folder = \"../dataset/\"\n",
    "names=['zipcode','date','category','merchant','card', 'payment', 'avg', 'max', 'min', 'std']\n",
    "basic_stats = pd.io.parsers.read_table(folder + 'basic_stats000',sep='\\t', names=names, parse_dates=[\"date\"])\n",
    "\n",
    "#payment_distribution \n",
    "#expenditure-time_curve\n",
    "#demographic distribution\n",
    "\n",
    "folder = \"../dataset/\"\n",
    "names=['zipcode','date','category','zipcodecustomer','merchant','card', 'payment', 'avg', 'max', 'min', 'std']\n",
    "customer_zipcodes = pd.io.parsers.read_table(folder + 'customer_zipcodes000',sep='\\t', names=names, parse_dates=[\"date\"])\n",
    "\n",
    "\n",
    "basic_stats[\"amount\"] = basic_stats[\"payment\"]* basic_stats[\"avg\"]\n",
    "basic_stats[\"avgpaybymerch\"] = basic_stats[\"payment\"]/ basic_stats[\"merchant\"]\n",
    "basic_stats[\"amountbymerch\"] = basic_stats[\"amount\"]/ basic_stats[\"merchant\"]\n",
    "basic_stats[\"avgReppays\"] = basic_stats[\"payment\"] / basic_stats[\"card\"]\n",
    "basic_stats[\"weekday\"] = basic_stats[\"date\"].map(lambda d: (d.weekday()))\n",
    "basic_stats[\"day\"] = basic_stats[\"date\"].map(lambda d: ('{0:%d}-{0:%a}'.format(d)))\n",
    "\n",
    "customer_zipcodes[\"amount\"] = customer_zipcodes[\"payment\"]* customer_zipcodes[\"avg\"]\n",
    "customer_zipcodes[\"avgpaybymerch\"] = customer_zipcodes[\"payment\"]/ customer_zipcodes[\"merchant\"]\n",
    "customer_zipcodes[\"amountbymerch\"] = customer_zipcodes[\"amount\"]/ customer_zipcodes[\"merchant\"]\n",
    "customer_zipcodes[\"avgReppays\"] = customer_zipcodes[\"payment\"] / customer_zipcodes[\"card\"]\n",
    "customer_zipcodes[\"weekday\"] = customer_zipcodes[\"date\"].map(lambda d: (d.weekday()))\n",
    "customer_zipcodes[\"day\"] = customer_zipcodes[\"date\"].map(lambda d: ('{0:%d}-{0:%a}'.format(d)))"
   ]
  },
  {
   "cell_type": "code",
   "execution_count": null,
   "metadata": {
    "collapsed": true
   },
   "outputs": [],
   "source": [
    "#basic_stats[\"density\"]=Distribución normal (mean=avg, standarddeviation=std, cortadas( min , max)\n",
    "# np.random.normal(mu, sigma, 1000)\n",
    "#https://oneau.wordpress.com/2011/02/28/simple-statistics-with-scipy/"
   ]
  },
  {
   "cell_type": "code",
   "execution_count": 40,
   "metadata": {
    "collapsed": false
   },
   "outputs": [
    {
     "data": {
      "text/plain": [
       "132976729.3"
      ]
     },
     "execution_count": 40,
     "metadata": {},
     "output_type": "execute_result"
    }
   ],
   "source": [
    "customer_zipcodes[\"amount\"].sum()"
   ]
  },
  {
   "cell_type": "code",
   "execution_count": 15,
   "metadata": {
    "collapsed": false
   },
   "outputs": [],
   "source": [
    "customer_zipcodesbycp=pd.pivot_table(customer_zipcodes, values='amount', index=['zipcodecustomer'], aggfunc=np.sum)\n",
    "customer_zipcodesbycategory=pd.pivot_table(customer_zipcodes, values='amount', index=['category'], aggfunc=np.sum)"
   ]
  },
  {
   "cell_type": "code",
   "execution_count": 34,
   "metadata": {
    "collapsed": false
   },
   "outputs": [],
   "source": [
    "customer_zipcodes_know=customer_zipcodes[customer_zipcodes[\"zipcodecustomer\"]!='unknown']\n",
    "customer_zipcodes_unknown=customer_zipcodes[customer_zipcodes[\"zipcodecustomer\"]=='unknown']\n",
    "customer_zipcodes_08002=customer_zipcodes[customer_zipcodes[\"zipcodecustomer\"]=='08002']\n",
    "customer_zipcodes_to_08002=customer_zipcodes[customer_zipcodes[\"zipcode\"]==8002]"
   ]
  },
  {
   "cell_type": "code",
   "execution_count": 38,
   "metadata": {
    "collapsed": false
   },
   "outputs": [
    {
     "name": "stdout",
     "output_type": "stream",
     "text": [
      "27152729.1\n",
      "105824000.2\n",
      "132976729.3\n",
      "132976729.3\n"
     ]
    }
   ],
   "source": [
    "customer_zipcodes_knowbycp=pd.pivot_table(customer_zipcodes_know, values='amount', index=['zipcodecustomer'], aggfunc=np.sum)\n",
    "print customer_zipcodes_know[\"amount\"].sum()\n",
    "print customer_zipcodes_unknown[\"amount\"].sum()\n",
    "print customer_zipcodes_know[\"amount\"].sum()+customer_zipcodes_unknown[\"amount\"].sum()\n",
    "print customer_zipcodes[\"amount\"].sum()"
   ]
  },
  {
   "cell_type": "code",
   "execution_count": 54,
   "metadata": {
    "collapsed": false
   },
   "outputs": [],
   "source": [
    "zips_to_08002=pd.pivot_table(customer_zipcodes_to_08002, values='amount', index=['zipcodecustomer'], aggfunc=np.sum)\n",
    "zip_to_zips=pd.pivot_table(customer_zipcodes_08002, values='amount', index=['zipcode'], aggfunc=np.sum)"
   ]
  },
  {
   "cell_type": "code",
   "execution_count": 55,
   "metadata": {
    "collapsed": false
   },
   "outputs": [
    {
     "data": {
      "text/plain": [
       "zipcode\n",
       "8001      278.90\n",
       "8002    18140.79\n",
       "8003      974.79\n",
       "Name: amount, dtype: float64"
      ]
     },
     "execution_count": 55,
     "metadata": {},
     "output_type": "execute_result"
    }
   ],
   "source": [
    "zips_to_08002\n",
    "zip_to_zips"
   ]
  },
  {
   "cell_type": "code",
   "execution_count": null,
   "metadata": {
    "collapsed": true
   },
   "outputs": [],
   "source": []
  }
 ],
 "metadata": {
  "kernelspec": {
   "display_name": "Python 2",
   "language": "python",
   "name": "python2"
  },
  "language_info": {
   "codemirror_mode": {
    "name": "ipython",
    "version": 2
   },
   "file_extension": ".py",
   "mimetype": "text/x-python",
   "name": "python",
   "nbconvert_exporter": "python",
   "pygments_lexer": "ipython2",
   "version": "2.7.10"
  }
 },
 "nbformat": 4,
 "nbformat_minor": 0
}
